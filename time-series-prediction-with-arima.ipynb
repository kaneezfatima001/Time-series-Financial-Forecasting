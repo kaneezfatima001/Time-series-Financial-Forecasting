{
 "cells": [
  {
   "cell_type": "markdown",
   "metadata": {
    "id": "A9V_9MYUg8WJ",
    "papermill": {
     "duration": 0.03806,
     "end_time": "2021-02-19T11:04:26.933563",
     "exception": false,
     "start_time": "2021-02-19T11:04:26.895503",
     "status": "completed"
    },
    "tags": []
   },
   "source": [
    "<img src=\"https://img.freepik.com/free-vector/financial-forecast-illustration-flat-tiny-economical-persons-concept_126608-1324.jpg?size=626&ext=jpg&ga=GA1.2.1775781678.1609891200\"></img>"
   ]
  },
  {
   "cell_type": "markdown",
   "metadata": {
    "id": "-VDTjD9-hr1T",
    "papermill": {
     "duration": 0.034732,
     "end_time": "2021-02-19T11:04:27.004438",
     "exception": false,
     "start_time": "2021-02-19T11:04:26.969706",
     "status": "completed"
    },
    "tags": []
   },
   "source": [
    "<h1>💰Predict Future Sales Competiton💰: time series prediction with ARIMA</h1>"
   ]
  },
  {
   "cell_type": "markdown",
   "metadata": {
    "papermill": {
     "duration": 0.03447,
     "end_time": "2021-02-19T11:04:27.073643",
     "exception": false,
     "start_time": "2021-02-19T11:04:27.039173",
     "status": "completed"
    },
    "tags": []
   },
   "source": [
    "This is my second challenge on Kaggle, but my first for almost five years! When I joined, I had (still have) some very big issues in understanding not only the rules of submission, but also the data and ... what everything mean?\n",
    "\n",
    "So, as I go along I will try to bring some clear understanding and also point to some fruitful discussions. Ok, here we go!"
   ]
  },
  {
   "cell_type": "markdown",
   "metadata": {
    "id": "LfxkA8m7ljGD",
    "papermill": {
     "duration": 0.034504,
     "end_time": "2021-02-19T11:04:27.142792",
     "exception": false,
     "start_time": "2021-02-19T11:04:27.108288",
     "status": "completed"
    },
    "tags": []
   },
   "source": [
    "## 1. Competition Outline"
   ]
  },
  {
   "cell_type": "markdown",
   "metadata": {
    "papermill": {
     "duration": 0.034753,
     "end_time": "2021-02-19T11:04:27.212662",
     "exception": false,
     "start_time": "2021-02-19T11:04:27.177909",
     "status": "completed"
    },
    "tags": []
   },
   "source": [
    "In this competition we work with time-series dataset consisting of daily sales data, kindly provided by one of the largest Russian software firms - 1C Company. \n",
    "\n",
    "We are asked to predict total sales for every product and store in the next month.\n",
    "\n",
    "But what is time series prediction?"
   ]
  },
  {
   "cell_type": "markdown",
   "metadata": {
    "id": "bU6rq8ojs5gV",
    "papermill": {
     "duration": 0.034949,
     "end_time": "2021-02-19T11:04:27.282441",
     "exception": false,
     "start_time": "2021-02-19T11:04:27.247492",
     "status": "completed"
    },
    "tags": []
   },
   "source": [
    ">  *Time series forecasting is the use of a model to predict future values based on previously observed values.* "
   ]
  },
  {
   "cell_type": "markdown",
   "metadata": {
    "id": "GnTfj_HKOoNZ",
    "papermill": {
     "duration": 0.03471,
     "end_time": "2021-02-19T11:04:27.353029",
     "exception": false,
     "start_time": "2021-02-19T11:04:27.318319",
     "status": "completed"
    },
    "tags": []
   },
   "source": [
    "## 2. Data "
   ]
  },
  {
   "cell_type": "markdown",
   "metadata": {
    "papermill": {
     "duration": 0.034227,
     "end_time": "2021-02-19T11:04:27.423110",
     "exception": false,
     "start_time": "2021-02-19T11:04:27.388883",
     "status": "completed"
    },
    "tags": []
   },
   "source": [
    "All right, so what data are we provided for which we need to predict the future values?"
   ]
  },
  {
   "cell_type": "markdown",
   "metadata": {
    "id": "YhfdhrKgOlKW",
    "papermill": {
     "duration": 0.034505,
     "end_time": "2021-02-19T11:04:27.492725",
     "exception": false,
     "start_time": "2021-02-19T11:04:27.458220",
     "status": "completed"
    },
    "tags": []
   },
   "source": [
    "- `sales_train.csv` - the training set. Daily historical data from January 2013 to October 2015. It has 1034 unique values `item_id` that were sold at a given `shop_id` at `date_block_num` time.\n",
    "- test.csv - the test set. You need to forecast the sales for these shops and products for November 2015. 214k `item_id` sales to predict at `shop_id` for next `date_block_num` time.\n",
    "- `sample_submission.csv` - a sample submission file in the correct format.\n",
    "- items.csv - supplemental information about the items/products. 22170\n",
    "unique values, with the categories.\n",
    "- item_categories.csv  - supplemental information about the items categories. 84\n",
    "unique values.\n",
    "- shops.csv- supplemental information about the shops. The name and sometimes the categories: TPK|ТЦ|ТК|ТРЦ|МТРЦ|ТЦ"
   ]
  },
  {
   "cell_type": "markdown",
   "metadata": {
    "id": "8e-OoJ_6t5Fs",
    "papermill": {
     "duration": 0.034664,
     "end_time": "2021-02-19T11:04:27.562128",
     "exception": false,
     "start_time": "2021-02-19T11:04:27.527464",
     "status": "completed"
    },
    "tags": []
   },
   "source": [
    "## 3. Libraries 📚"
   ]
  },
  {
   "cell_type": "markdown",
   "metadata": {
    "papermill": {
     "duration": 0.034625,
     "end_time": "2021-02-19T11:04:27.633048",
     "exception": false,
     "start_time": "2021-02-19T11:04:27.598423",
     "status": "completed"
    },
    "tags": []
   },
   "source": [
    "Ok, that sounds good. But what libraries do we need to do the prediction?"
   ]
  },
  {
   "cell_type": "code",
   "execution_count": 1,
   "metadata": {
    "execution": {
     "iopub.execute_input": "2021-02-19T11:04:27.709020Z",
     "iopub.status.busy": "2021-02-19T11:04:27.708356Z",
     "iopub.status.idle": "2021-02-19T11:04:28.566886Z",
     "shell.execute_reply": "2021-02-19T11:04:28.565295Z"
    },
    "id": "pNEYoZPi8W-J",
    "papermill": {
     "duration": 0.899031,
     "end_time": "2021-02-19T11:04:28.567108",
     "exception": false,
     "start_time": "2021-02-19T11:04:27.668077",
     "status": "completed"
    },
    "tags": []
   },
   "outputs": [],
   "source": [
    "# Basic packages\n",
    "import numpy as np # linear algebra\n",
    "import pandas as pd # data processing, CSV file I/O (e.g. pd.read_csv)\n",
    "import random as rd # generating random numbers\n",
    "import datetime # manipulating date formats\n",
    "# Viz\n",
    "import matplotlib.pyplot as plt # basic plotting\n",
    "import seaborn as sns # for prettier plots"
   ]
  },
  {
   "cell_type": "code",
   "execution_count": 2,
   "metadata": {
    "execution": {
     "iopub.execute_input": "2021-02-19T11:04:28.642293Z",
     "iopub.status.busy": "2021-02-19T11:04:28.641637Z",
     "iopub.status.idle": "2021-02-19T11:04:28.990085Z",
     "shell.execute_reply": "2021-02-19T11:04:28.990747Z"
    },
    "id": "N61ujKE_JcBs",
    "outputId": "4d4e1f88-7f11-4156-e4d3-4ca146247c22",
    "papermill": {
     "duration": 0.388709,
     "end_time": "2021-02-19T11:04:28.990928",
     "exception": false,
     "start_time": "2021-02-19T11:04:28.602219",
     "status": "completed"
    },
    "tags": []
   },
   "outputs": [],
   "source": [
    "# time-series prediction packages\n",
    "from statsmodels.tsa.statespace import sarimax as smt # sarimax algorithm for actual predictions\n",
    "from statsmodels.graphics.tsaplots import plot_pacf # partial auto-correlation plotting tool for stationarity test\n",
    "from statsmodels.graphics.tsaplots import plot_acf # auto-correlation plotting tool for stationarity test\n",
    "from statsmodels.tsa.arima_process import ArmaProcess # arma process for simulation "
   ]
  },
  {
   "cell_type": "code",
   "execution_count": 3,
   "metadata": {
    "execution": {
     "iopub.execute_input": "2021-02-19T11:04:29.067554Z",
     "iopub.status.busy": "2021-02-19T11:04:29.066920Z",
     "iopub.status.idle": "2021-02-19T11:04:31.643538Z",
     "shell.execute_reply": "2021-02-19T11:04:31.642921Z"
    },
    "id": "MmOrenQg_-bY",
    "outputId": "d7df7eac-da61-49b8-c0a8-4b70b9b9215c",
    "papermill": {
     "duration": 2.616858,
     "end_time": "2021-02-19T11:04:31.643711",
     "exception": false,
     "start_time": "2021-02-19T11:04:29.026853",
     "status": "completed"
    },
    "tags": []
   },
   "outputs": [],
   "source": [
    "sales = pd.read_csv(\"../input/competitive-data-science-predict-future-sales/sales_train.csv\")\n",
    "\n",
    "import warnings\n",
    "\n",
    "# settings\n",
    "warnings.filterwarnings('ignore')\n",
    "\n",
    "\n",
    "item_cat = pd.read_csv(\"../input/competitive-data-science-predict-future-sales/item_categories.csv\")\n",
    "items = pd.read_csv(\"../input/competitive-data-science-predict-future-sales/items.csv\")\n",
    "sub = pd.read_csv(\"../input/competitive-data-science-predict-future-sales/sample_submission.csv\")\n",
    "shop = pd.read_csv(\"../input/competitive-data-science-predict-future-sales/shops.csv\")\n",
    "test = pd.read_csv(\"../input/competitive-data-science-predict-future-sales/test.csv\")"
   ]
  },
  {
   "cell_type": "markdown",
   "metadata": {
    "id": "lNfkE-nvuOrD",
    "papermill": {
     "duration": 0.034311,
     "end_time": "2021-02-19T11:04:31.712823",
     "exception": false,
     "start_time": "2021-02-19T11:04:31.678512",
     "status": "completed"
    },
    "tags": []
   },
   "source": [
    "## 3. Example: time series forecasting with ARMA"
   ]
  },
  {
   "cell_type": "markdown",
   "metadata": {
    "id": "8FUshQoNKT96",
    "papermill": {
     "duration": 0.034299,
     "end_time": "2021-02-19T11:04:31.781647",
     "exception": false,
     "start_time": "2021-02-19T11:04:31.747348",
     "status": "completed"
    },
    "tags": []
   },
   "source": [
    "I didn't knew how to model time series so I started by learning about that. It seems that one of the very common model for that are Auto-Regressive Moving Average processes. You must know what are random walk, moving average process (MA) and autoregressive models (AR) before tackling this notebook where we mix everything up with ARMA model. \n",
    "\n",
    "There are notebooks about that there:\n",
    "\n",
    "- [Understanding the random walk and the moving average](https://towardsdatascience.com/how-to-model-time-series-in-python-9983ebbf82cf)\n",
    "- [A hands-on tutorial on AR(p) process for time series analysis in Python](https://towardsdatascience.com/time-series-forecasting-with-autoregressive-processes-ba629717401)\n",
    "- [Understand and implement ARMA and ARIMA models for time series forcasting Python](https://towardsdatascience.com/advanced-time-series-analysis-with-arma-and-arima-a7d9b589ed6d)"
   ]
  },
  {
   "cell_type": "markdown",
   "metadata": {
    "papermill": {
     "duration": 0.034391,
     "end_time": "2021-02-19T11:04:31.851470",
     "exception": false,
     "start_time": "2021-02-19T11:04:31.817079",
     "status": "completed"
    },
    "tags": []
   },
   "source": [
    "Ok, now that we are wise, let's do a little example on how to predict a financial stock with ARMA before we dive into our competition"
   ]
  },
  {
   "cell_type": "markdown",
   "metadata": {
    "id": "GYWI7C095wva",
    "papermill": {
     "duration": 0.034434,
     "end_time": "2021-02-19T11:04:31.920921",
     "exception": false,
     "start_time": "2021-02-19T11:04:31.886487",
     "status": "completed"
    },
    "tags": []
   },
   "source": [
    "### ARMA\n",
    "\n",
    "an ARMA(p,q) is simply the combination of both Moving Average process and Auto Regressive process into a single equation. $y_t$ value is equal to:\n",
    "\n",
    "$$y_t = \\overbrace{c + \\theta_1 \\epsilon_{t-1} + \\theta_{t-2} + ... + \\theta_q \\epsilon_{t-q}}^{Moving-Average(q)} + \\\\ \\underbrace{\\phi_1 y_{t-1} + \\phi_2 y_{t-2} + ... + \\phi_q y_{t-p}}_{Auto-regression(p)}$$"
   ]
  },
  {
   "cell_type": "markdown",
   "metadata": {
    "id": "6RhPTekl6ba2",
    "papermill": {
     "duration": 0.035261,
     "end_time": "2021-02-19T11:04:31.992557",
     "exception": false,
     "start_time": "2021-02-19T11:04:31.957296",
     "status": "completed"
    },
    "tags": []
   },
   "source": [
    "Here would be a simulated ARMA model:"
   ]
  },
  {
   "cell_type": "code",
   "execution_count": 4,
   "metadata": {
    "execution": {
     "iopub.execute_input": "2021-02-19T11:04:32.067413Z",
     "iopub.status.busy": "2021-02-19T11:04:32.066759Z",
     "iopub.status.idle": "2021-02-19T11:04:32.070277Z",
     "shell.execute_reply": "2021-02-19T11:04:32.069790Z"
    },
    "id": "eBAJ69TtZEJ_",
    "papermill": {
     "duration": 0.043044,
     "end_time": "2021-02-19T11:04:32.070411",
     "exception": false,
     "start_time": "2021-02-19T11:04:32.027367",
     "status": "completed"
    },
    "tags": []
   },
   "outputs": [],
   "source": [
    "ar1 = np.array([1, 0.33])\n",
    "ma1 = np.array([1, 0.9])\n",
    "simulated_ARMA_data = ArmaProcess(ar1, ma1).generate_sample(nsample=10000)"
   ]
  },
  {
   "cell_type": "code",
   "execution_count": 5,
   "metadata": {
    "execution": {
     "iopub.execute_input": "2021-02-19T11:04:32.237966Z",
     "iopub.status.busy": "2021-02-19T11:04:32.230195Z",
     "iopub.status.idle": "2021-02-19T11:04:32.421035Z",
     "shell.execute_reply": "2021-02-19T11:04:32.421476Z"
    },
    "id": "c4xlyyS0a2gx",
    "outputId": "aec90931-236e-495d-d2a1-74dc3e5f35a4",
    "papermill": {
     "duration": 0.316549,
     "end_time": "2021-02-19T11:04:32.421666",
     "exception": false,
     "start_time": "2021-02-19T11:04:32.105117",
     "status": "completed"
    },
    "tags": []
   },
   "outputs": [
    {
     "data": {
      "image/png": "[encoded data removed]",
      "text/plain": [
       "<Figure size 1080x540 with 1 Axes>"
      ]
     },
     "metadata": {
      "needs_background": "light"
     },
     "output_type": "display_data"
    }
   ],
   "source": [
    "plt.figure(figsize=[15, 7.5]); # Set dimensions for figure\n",
    "plt.plot(simulated_ARMA_data)\n",
    "plt.title(\"Simulated ARMA(1,1) Process\")\n",
    "plt.xlim([0, 200])\n",
    "plt.show()"
   ]
  },
  {
   "cell_type": "markdown",
   "metadata": {
    "id": "fea02AiD-R3h",
    "papermill": {
     "duration": 0.037177,
     "end_time": "2021-02-19T11:04:32.497272",
     "exception": false,
     "start_time": "2021-02-19T11:04:32.460095",
     "status": "completed"
    },
    "tags": []
   },
   "source": [
    "The first (and most important) step in fitting an ARIMA model is the determination of the order of differencing needed to stationarize the series."
   ]
  },
  {
   "cell_type": "markdown",
   "metadata": {
    "id": "O7L2pREP-lz3",
    "papermill": {
     "duration": 0.03707,
     "end_time": "2021-02-19T11:04:32.571952",
     "exception": false,
     "start_time": "2021-02-19T11:04:32.534882",
     "status": "completed"
    },
    "tags": []
   },
   "source": [
    "Differencing is a method of transforming a time series dataset. It can be used to remove the series dependence on time, so-called temporal dependence."
   ]
  },
  {
   "cell_type": "markdown",
   "metadata": {
    "id": "16hjMSVS_gHV",
    "papermill": {
     "duration": 0.037124,
     "end_time": "2021-02-19T11:04:32.646462",
     "exception": false,
     "start_time": "2021-02-19T11:04:32.609338",
     "status": "completed"
    },
    "tags": []
   },
   "source": [
    "Normally, the correct amount of differencing is the lowest order of differencing that yields a time series which fluctuates around a well-defined mean value and whose autocorrelation function (ACF) plot decays fairly rapidly to zero, either from above or below. If the series still exhibits a long-term trend, or otherwise lacks a tendency to return to its mean value, or if its autocorrelations are are positive out to a high number of lags (e.g., 10 or more), then it needs a higher order of differencing"
   ]
  },
  {
   "cell_type": "markdown",
   "metadata": {
    "id": "COf-riSObjxL",
    "papermill": {
     "duration": 0.037174,
     "end_time": "2021-02-19T11:04:32.721478",
     "exception": false,
     "start_time": "2021-02-19T11:04:32.684304",
     "status": "completed"
    },
    "tags": []
   },
   "source": [
    "So let's take a look at the ACF and PACF plots:"
   ]
  },
  {
   "cell_type": "code",
   "execution_count": 6,
   "metadata": {
    "execution": {
     "iopub.execute_input": "2021-02-19T11:04:32.818905Z",
     "iopub.status.busy": "2021-02-19T11:04:32.817942Z",
     "iopub.status.idle": "2021-02-19T11:04:33.188010Z",
     "shell.execute_reply": "2021-02-19T11:04:33.187480Z"
    },
    "id": "fNd3EhXxbezQ",
    "outputId": "0432de08-5814-425f-abaa-de1a0ec74b99",
    "papermill": {
     "duration": 0.429244,
     "end_time": "2021-02-19T11:04:33.188149",
     "exception": false,
     "start_time": "2021-02-19T11:04:32.758905",
     "status": "completed"
    },
    "tags": []
   },
   "outputs": [
    {
     "data": {
      "image/png": "[encoded data removed]",
      "text/plain": [
       "<Figure size 432x288 with 1 Axes>"
      ]
     },
     "metadata": {
      "needs_background": "light"
     },
     "output_type": "display_data"
    },
    {
     "data": {
      "image/png": "[encoded data removed]",
      "text/plain": [
       "<Figure size 432x288 with 1 Axes>"
      ]
     },
     "metadata": {
      "needs_background": "light"
     },
     "output_type": "display_data"
    }
   ],
   "source": [
    "plot_pacf(simulated_ARMA_data);\n",
    "plot_acf(simulated_ARMA_data);"
   ]
  },
  {
   "cell_type": "markdown",
   "metadata": {
    "id": "O7auRHC0boES",
    "papermill": {
     "duration": 0.038494,
     "end_time": "2021-02-19T11:04:33.265394",
     "exception": false,
     "start_time": "2021-02-19T11:04:33.226900",
     "status": "completed"
    },
    "tags": []
   },
   "source": [
    "As you can see, we cannot infer the order of the ARMA process by looking at these plots. In fact, looking closely, we can see some sinusoidal shape in both ACF and PACF functions. This suggests that both processes are in play."
   ]
  },
  {
   "cell_type": "markdown",
   "metadata": {
    "id": "oX7-5ZbcbsOD",
    "papermill": {
     "duration": 0.039673,
     "end_time": "2021-02-19T11:04:33.343998",
     "exception": false,
     "start_time": "2021-02-19T11:04:33.304325",
     "status": "completed"
    },
    "tags": []
   },
   "source": [
    "Therefore, how can we make sure that we choose the right order for both the AR(p) and MA(q) processes?\n",
    "\n",
    "We will need try different combinations of orders, fit an ARIMA model with those orders, and use a criterion for order selection.\n",
    "\n",
    "This brings us to the topic of Akaike’s Information Criterion or AIC."
   ]
  },
  {
   "cell_type": "markdown",
   "metadata": {
    "id": "CZn6Lulfbzzf",
    "papermill": {
     "duration": 0.038788,
     "end_time": "2021-02-19T11:04:33.421936",
     "exception": false,
     "start_time": "2021-02-19T11:04:33.383148",
     "status": "completed"
    },
    "tags": []
   },
   "source": [
    "### Akaike Information Criterion"
   ]
  },
  {
   "cell_type": "markdown",
   "metadata": {
    "id": "i4qMJrqHb33D",
    "papermill": {
     "duration": 0.038717,
     "end_time": "2021-02-19T11:04:33.499787",
     "exception": false,
     "start_time": "2021-02-19T11:04:33.461070",
     "status": "completed"
    },
    "tags": []
   },
   "source": [
    "This criterion is useful for selecting the order (p,d,q) of an ARIMA model. The AIC is expressed as:\n",
    "\n",
    "$$AIC = -2\\log(L) + 2k$$"
   ]
  },
  {
   "cell_type": "markdown",
   "metadata": {
    "id": "slq5jTF5cYLp",
    "papermill": {
     "duration": 0.038659,
     "end_time": "2021-02-19T11:04:33.577610",
     "exception": false,
     "start_time": "2021-02-19T11:04:33.538951",
     "status": "completed"
    },
    "tags": []
   },
   "source": [
    "Where L is the likelihood of the data and k is the number of parameters.\n",
    "In practice, we select the model with the lowest AIC compared to other models."
   ]
  },
  {
   "cell_type": "markdown",
   "metadata": {
    "id": "f0jXlgJQ9ecn",
    "papermill": {
     "duration": 0.038215,
     "end_time": "2021-02-19T11:04:33.654461",
     "exception": false,
     "start_time": "2021-02-19T11:04:33.616246",
     "status": "completed"
    },
    "tags": []
   },
   "source": [
    "It is important to note that the AIC cannot be used to select the order of differencing (d). Differencing the data will the change the likelihood (L) of the data. The AIC of models with different orders of differencing are therefore not comparable.\n",
    "\n",
    "Also, notice that since we select the model with the lowest AIC, more parameters will increase the AIC score and thus penalize the model. While a model with more parameters could perform better, the AIC is used to find the model with the least number of parameters that will still give good results.\n",
    "A final note on AIC is that it can only be used relative to other models. A small AIC value is not a guarantee that the model will have a good performance on unsee data, or that its SSE will be small."
   ]
  },
  {
   "cell_type": "markdown",
   "metadata": {
    "id": "m3SbCYctvcRF",
    "papermill": {
     "duration": 0.041147,
     "end_time": "2021-02-19T11:04:33.734441",
     "exception": false,
     "start_time": "2021-02-19T11:04:33.693294",
     "status": "completed"
    },
    "tags": []
   },
   "source": [
    "# SARIMAX"
   ]
  },
  {
   "cell_type": "markdown",
   "metadata": {
    "id": "OsTgAq--cxre",
    "papermill": {
     "duration": 0.04045,
     "end_time": "2021-02-19T11:04:33.813643",
     "exception": false,
     "start_time": "2021-02-19T11:04:33.773193",
     "status": "completed"
    },
    "tags": []
   },
   "source": [
    "Let’s use Microoft stock and model the time series with an ARIMA(p,d,q) model."
   ]
  },
  {
   "cell_type": "code",
   "execution_count": 7,
   "metadata": {
    "execution": {
     "iopub.execute_input": "2021-02-19T11:04:33.911790Z",
     "iopub.status.busy": "2021-02-19T11:04:33.897137Z",
     "iopub.status.idle": "2021-02-19T11:04:44.909685Z",
     "shell.execute_reply": "2021-02-19T11:04:44.909042Z"
    },
    "id": "iAT0ioMknkNT",
    "outputId": "3d2b8fb1-ea48-4449-e077-d1828cc9cbcf",
    "papermill": {
     "duration": 11.05609,
     "end_time": "2021-02-19T11:04:44.909830",
     "exception": false,
     "start_time": "2021-02-19T11:04:33.853740",
     "status": "completed"
    },
    "tags": []
   },
   "outputs": [
    {
     "name": "stdout",
     "output_type": "stream",
     "text": [
      "Collecting yfinance\r\n",
      "  Downloading yfinance-0.1.55.tar.gz (23 kB)\r\n",
      "Requirement already satisfied: pandas>=0.24 in /opt/conda/lib/python3.7/site-packages (from yfinance) (1.2.0)\r\n",
      "Requirement already satisfied: numpy>=1.15 in /opt/conda/lib/python3.7/site-packages (from yfinance) (1.19.5)\r\n",
      "Requirement already satisfied: requests>=2.20 in /opt/conda/lib/python3.7/site-packages (from yfinance) (2.25.1)\r\n",
      "Collecting multitasking>=0.0.7\r\n",
      "  Downloading multitasking-0.0.9.tar.gz (8.1 kB)\r\n",
      "Requirement already satisfied: lxml>=4.5.1 in /opt/conda/lib/python3.7/site-packages (from yfinance) (4.6.2)\r\n",
      "Requirement already satisfied: python-dateutil>=2.7.3 in /opt/conda/lib/python3.7/site-packages (from pandas>=0.24->yfinance) (2.8.1)\r\n",
      "Requirement already satisfied: pytz>=2017.3 in /opt/conda/lib/python3.7/site-packages (from pandas>=0.24->yfinance) (2020.5)\r\n",
      "Requirement already satisfied: six>=1.5 in /opt/conda/lib/python3.7/site-packages (from python-dateutil>=2.7.3->pandas>=0.24->yfinance) (1.15.0)\r\n",
      "Requirement already satisfied: urllib3<1.27,>=1.21.1 in /opt/conda/lib/python3.7/site-packages (from requests>=2.20->yfinance) (1.26.2)\r\n",
      "Requirement already satisfied: chardet<5,>=3.0.2 in /opt/conda/lib/python3.7/site-packages (from requests>=2.20->yfinance) (3.0.4)\r\n",
      "Requirement already satisfied: idna<3,>=2.5 in /opt/conda/lib/python3.7/site-packages (from requests>=2.20->yfinance) (2.10)\r\n",
      "Requirement already satisfied: certifi>=2017.4.17 in /opt/conda/lib/python3.7/site-packages (from requests>=2.20->yfinance) (2020.12.5)\r\n",
      "Building wheels for collected packages: yfinance, multitasking\r\n",
      "  Building wheel for yfinance (setup.py) ... \u001b[?25l-\b \b\\\b \bdone\r\n",
      "\u001b[?25h  Created wheel for yfinance: filename=yfinance-0.1.55-py2.py3-none-any.whl size=22616 sha256=06dbad789d1879d1c41b8fce5ed3ad060f7c54e2f5d921f31020eb22b3d4569b\r\n",
      "  Stored in directory: /root/.cache/pip/wheels/aa/8a/36/59ed4f6fbcb6100967618eeb0696046bf9777a41ac2ff1f9b9\r\n",
      "  Building wheel for multitasking (setup.py) ... \u001b[?25l-\b \bdone\r\n",
      "\u001b[?25h  Created wheel for multitasking: filename=multitasking-0.0.9-py3-none-any.whl size=8368 sha256=7df4d021abd4d2754c52af3e4f5e420b1cb95ce6c6f9d2af36d8803a31d3a0c1\r\n",
      "  Stored in directory: /root/.cache/pip/wheels/ae/25/47/4d68431a7ec1b6c4b5233365934b74c1d4e665bf5f968d363a\r\n",
      "Successfully built yfinance multitasking\r\n",
      "Installing collected packages: multitasking, yfinance\r\n",
      "Successfully installed multitasking-0.0.9 yfinance-0.1.55\r\n"
     ]
    }
   ],
   "source": [
    "! pip install yfinance"
   ]
  },
  {
   "cell_type": "code",
   "execution_count": 8,
   "metadata": {
    "execution": {
     "iopub.execute_input": "2021-02-19T11:04:45.001653Z",
     "iopub.status.busy": "2021-02-19T11:04:45.000739Z",
     "iopub.status.idle": "2021-02-19T11:04:45.657186Z",
     "shell.execute_reply": "2021-02-19T11:04:45.656540Z"
    },
    "id": "-D7Q7ghwveHe",
    "papermill": {
     "duration": 0.704534,
     "end_time": "2021-02-19T11:04:45.657322",
     "exception": false,
     "start_time": "2021-02-19T11:04:44.952788",
     "status": "completed"
    },
    "tags": []
   },
   "outputs": [],
   "source": [
    "import yfinance as yf\n",
    "\n",
    "msft = yf.Ticker(\"MSFT\")\n",
    "\n",
    "# get historical market data\n",
    "hist = msft.history(period=\"5y\")"
   ]
  },
  {
   "cell_type": "code",
   "execution_count": 9,
   "metadata": {
    "execution": {
     "iopub.execute_input": "2021-02-19T11:04:45.746895Z",
     "iopub.status.busy": "2021-02-19T11:04:45.746258Z",
     "iopub.status.idle": "2021-02-19T11:04:45.762424Z",
     "shell.execute_reply": "2021-02-19T11:04:45.761802Z"
    },
    "id": "UiUt6ajGzI9X",
    "papermill": {
     "duration": 0.062773,
     "end_time": "2021-02-19T11:04:45.762589",
     "exception": false,
     "start_time": "2021-02-19T11:04:45.699816",
     "status": "completed"
    },
    "tags": []
   },
   "outputs": [],
   "source": [
    "df_settle = hist['Close'].resample('MS').ffill().dropna()"
   ]
  },
  {
   "cell_type": "code",
   "execution_count": 10,
   "metadata": {
    "execution": {
     "iopub.execute_input": "2021-02-19T11:04:45.857086Z",
     "iopub.status.busy": "2021-02-19T11:04:45.856480Z",
     "iopub.status.idle": "2021-02-19T11:04:45.860702Z",
     "shell.execute_reply": "2021-02-19T11:04:45.860199Z"
    },
    "id": "psXxlASeEQYg",
    "outputId": "7798b178-8049-4aaf-d57f-d46a5c6f83ec",
    "papermill": {
     "duration": 0.054393,
     "end_time": "2021-02-19T11:04:45.860835",
     "exception": false,
     "start_time": "2021-02-19T11:04:45.806442",
     "status": "completed"
    },
    "tags": []
   },
   "outputs": [
    {
     "data": {
      "text/plain": [
       "Date\n",
       "2020-10-01    211.418289\n",
       "2020-11-01    201.477280\n",
       "2020-12-01    215.713181\n",
       "2021-01-01    221.908905\n",
       "2021-02-01    239.099304\n",
       "Freq: MS, Name: Close, dtype: float64"
      ]
     },
     "execution_count": 10,
     "metadata": {},
     "output_type": "execute_result"
    }
   ],
   "source": [
    "df_settle.tail()"
   ]
  },
  {
   "cell_type": "code",
   "execution_count": 11,
   "metadata": {
    "execution": {
     "iopub.execute_input": "2021-02-19T11:04:45.953283Z",
     "iopub.status.busy": "2021-02-19T11:04:45.952656Z",
     "iopub.status.idle": "2021-02-19T11:04:45.981686Z",
     "shell.execute_reply": "2021-02-19T11:04:45.982638Z"
    },
    "id": "6lftTwLYyVv4",
    "outputId": "328787db-cd53-4060-b691-b41768cce55b",
    "papermill": {
     "duration": 0.078934,
     "end_time": "2021-02-19T11:04:45.982908",
     "exception": false,
     "start_time": "2021-02-19T11:04:45.903974",
     "status": "completed"
    },
    "tags": []
   },
   "outputs": [
    {
     "name": "stdout",
     "output_type": "stream",
     "text": [
      "ADF result 2.32592114014481\n",
      "p-value =  0.9989710666347107\n",
      "critical values (1%): -3.563\n",
      "critical values (5%): -2.919\n",
      "critical values (10%): -2.597\n"
     ]
    }
   ],
   "source": [
    "from statsmodels.tsa.stattools import adfuller\n",
    "\n",
    "result = adfuller(df_settle)\n",
    "print('ADF result', result[0])\n",
    "print('p-value = ', result[1])\n",
    "\n",
    "critical_values = result[4]\n",
    "\n",
    "for key, value, in critical_values.items():\n",
    "  print(\"critical values (%s): %.3f\" % (key, value))"
   ]
  },
  {
   "cell_type": "markdown",
   "metadata": {
    "id": "u3064UN1-f4g",
    "papermill": {
     "duration": 0.050436,
     "end_time": "2021-02-19T11:04:46.118428",
     "exception": false,
     "start_time": "2021-02-19T11:04:46.067992",
     "status": "completed"
    },
    "tags": []
   },
   "source": [
    "Here, the p-value is larger than 0.05, meaning the we cannot reject the null hypothesis stating that the time series is non-stationary.\n",
    "Therefore, we must apply some transformation and some differencing to remove the trend and remove the change in variance."
   ]
  },
  {
   "cell_type": "markdown",
   "metadata": {
    "id": "UbBWxMTp7EX-",
    "papermill": {
     "duration": 0.043069,
     "end_time": "2021-02-19T11:04:46.204789",
     "exception": false,
     "start_time": "2021-02-19T11:04:46.161720",
     "status": "completed"
    },
    "tags": []
   },
   "source": [
    "### Finding model parameters by grid search"
   ]
  },
  {
   "cell_type": "markdown",
   "metadata": {
    "id": "5Slr3nc2aO4N",
    "papermill": {
     "duration": 0.04443,
     "end_time": "2021-02-19T11:04:46.292469",
     "exception": false,
     "start_time": "2021-02-19T11:04:46.248039",
     "status": "completed"
    },
    "tags": []
   },
   "source": [
    "We could try to find the model parameters by detrending with a log-difference `np.log(df_settle)` and differenciating `df_settle.diff(seasonality)` and then run the Augmented Dickey-Fuller test again to see if we have a stationary time series."
   ]
  },
  {
   "cell_type": "markdown",
   "metadata": {
    "id": "UzfFnnB0b0g1",
    "papermill": {
     "duration": 0.044157,
     "end_time": "2021-02-19T11:04:46.381438",
     "exception": false,
     "start_time": "2021-02-19T11:04:46.337281",
     "status": "completed"
    },
    "tags": []
   },
   "source": [
    "Although these plots can give us a rough idea of the processes in play, it is better to test multiple scenarios and choose the model that yield the lowest AIC."
   ]
  },
  {
   "cell_type": "markdown",
   "metadata": {
    "id": "r6qqF_Qgr1Dk",
    "papermill": {
     "duration": 0.04392,
     "end_time": "2021-02-19T11:04:46.469079",
     "exception": false,
     "start_time": "2021-02-19T11:04:46.425159",
     "status": "completed"
    },
    "tags": []
   },
   "source": [
    "Therefore grid searching (p, d, q, s), allows to feed the data as it is without any transformation since SARIMAX will do the transformation for you under the hood."
   ]
  },
  {
   "cell_type": "markdown",
   "metadata": {
    "id": "0yerROAwU9sf",
    "papermill": {
     "duration": 0.043471,
     "end_time": "2021-02-19T11:04:46.556419",
     "exception": false,
     "start_time": "2021-02-19T11:04:46.512948",
     "status": "completed"
    },
    "tags": []
   },
   "source": [
    "We just need to find the model minimizing the AIC"
   ]
  },
  {
   "cell_type": "code",
   "execution_count": 12,
   "metadata": {
    "execution": {
     "iopub.execute_input": "2021-02-19T11:04:46.651387Z",
     "iopub.status.busy": "2021-02-19T11:04:46.650726Z",
     "iopub.status.idle": "2021-02-19T11:04:46.652681Z",
     "shell.execute_reply": "2021-02-19T11:04:46.653097Z"
    },
    "id": "a7dI2yP12yGh",
    "papermill": {
     "duration": 0.053451,
     "end_time": "2021-02-19T11:04:46.653265",
     "exception": false,
     "start_time": "2021-02-19T11:04:46.599814",
     "status": "completed"
    },
    "tags": []
   },
   "outputs": [],
   "source": [
    "import itertools\n",
    "import warnings\n",
    "from statsmodels.tsa.statespace.sarimax import SARIMAX\n",
    "# from statsmodels.api.tsa.statespace import SARIMAX\n",
    "\n",
    "warnings.filterwarnings(\"ignore\")\n",
    "\n",
    "def arima_grid_search(dataframe, s):\n",
    "  p = d = q = range(2)\n",
    "  param_combinations = list(itertools.product(p, d, q))\n",
    "\n",
    "  lowest_aic, pdq, pdqs = None, None, None\n",
    "\n",
    "  total_iterations = 0\n",
    "  for order in param_combinations:\n",
    "    for (p, d, q) in param_combinations:\n",
    "      seasonal_order = (p, d, q, s)\n",
    "      total_iterations +=1\n",
    "      try:\n",
    "        model = SARIMAX(df_settle, order=order,\n",
    "                        seasonal_order = seasonal_order,\n",
    "                        enforce_stationarity=False,\n",
    "                        enforce_invertibility=False,\n",
    "                        disp=False\n",
    "                      )\n",
    "        model_result = model.fit(maxiter=200, disp=False)\n",
    "\n",
    "        if not lowest_aic or model_result.aic < lowest_aic:\n",
    "          lowest_aic = model_result.aic\n",
    "          pdq, pdqs = order, seasonal_order\n",
    "\n",
    "      except Exception as ex:\n",
    "        continue\n",
    "\n",
    "  return lowest_aic, pdq, pdqs"
   ]
  },
  {
   "cell_type": "code",
   "execution_count": 13,
   "metadata": {
    "execution": {
     "iopub.execute_input": "2021-02-19T11:04:46.742975Z",
     "iopub.status.busy": "2021-02-19T11:04:46.742414Z",
     "iopub.status.idle": "2021-02-19T11:04:55.066196Z",
     "shell.execute_reply": "2021-02-19T11:04:55.065670Z"
    },
    "id": "q6UyiMgj8gfd",
    "papermill": {
     "duration": 8.370097,
     "end_time": "2021-02-19T11:04:55.066340",
     "exception": false,
     "start_time": "2021-02-19T11:04:46.696243",
     "status": "completed"
    },
    "tags": []
   },
   "outputs": [],
   "source": [
    "lowest_aic, order, seasonal_order = arima_grid_search(df_settle, 12)"
   ]
  },
  {
   "cell_type": "code",
   "execution_count": 14,
   "metadata": {
    "execution": {
     "iopub.execute_input": "2021-02-19T11:04:55.157382Z",
     "iopub.status.busy": "2021-02-19T11:04:55.156435Z",
     "iopub.status.idle": "2021-02-19T11:04:55.160352Z",
     "shell.execute_reply": "2021-02-19T11:04:55.161009Z"
    },
    "id": "FGkT5GAe8thF",
    "outputId": "10495cea-6ef8-4460-8594-593e14b45f30",
    "papermill": {
     "duration": 0.05209,
     "end_time": "2021-02-19T11:04:55.161221",
     "exception": false,
     "start_time": "2021-02-19T11:04:55.109131",
     "status": "completed"
    },
    "tags": []
   },
   "outputs": [
    {
     "name": "stdout",
     "output_type": "stream",
     "text": [
      "ARIMA(1, 1, 0)x(1, 1, 0, 12)\n",
      "Lowest AIC: 253.230\n"
     ]
    }
   ],
   "source": [
    "print('ARIMA{}x{}'.format(order, seasonal_order))\n",
    "print('Lowest AIC: %.3f' % (lowest_aic))"
   ]
  },
  {
   "cell_type": "markdown",
   "metadata": {
    "id": "DRLF4QdZswD4",
    "papermill": {
     "duration": 0.042796,
     "end_time": "2021-02-19T11:04:55.248225",
     "exception": false,
     "start_time": "2021-02-19T11:04:55.205429",
     "status": "completed"
    },
    "tags": []
   },
   "source": [
    "Therefore, this suggests are ARIMA model with an AR(1) process and a MA(0)."
   ]
  },
  {
   "cell_type": "markdown",
   "metadata": {
    "id": "CcSnYsBrt5c3",
    "papermill": {
     "duration": 0.042663,
     "end_time": "2021-02-19T11:04:55.334349",
     "exception": false,
     "start_time": "2021-02-19T11:04:55.291686",
     "status": "completed"
    },
    "tags": []
   },
   "source": [
    "The order of differencing (d) process is 1. But it's not related to the AIC, it has been found by the grid search model itself."
   ]
  },
  {
   "cell_type": "markdown",
   "metadata": {
    "id": "Lq_FNRZC8_Jz",
    "papermill": {
     "duration": 0.043053,
     "end_time": "2021-02-19T11:04:55.421986",
     "exception": false,
     "start_time": "2021-02-19T11:04:55.378933",
     "status": "completed"
    },
    "tags": []
   },
   "source": [
    "## fitting the SARIMAX model"
   ]
  },
  {
   "cell_type": "code",
   "execution_count": 15,
   "metadata": {
    "execution": {
     "iopub.execute_input": "2021-02-19T11:04:55.514945Z",
     "iopub.status.busy": "2021-02-19T11:04:55.514120Z",
     "iopub.status.idle": "2021-02-19T11:04:55.567921Z",
     "shell.execute_reply": "2021-02-19T11:04:55.567249Z"
    },
    "id": "X3tBBo0N9CwV",
    "papermill": {
     "duration": 0.103177,
     "end_time": "2021-02-19T11:04:55.568062",
     "exception": false,
     "start_time": "2021-02-19T11:04:55.464885",
     "status": "completed"
    },
    "tags": []
   },
   "outputs": [],
   "source": [
    "model = SARIMAX(\n",
    "    df_settle, \n",
    "    order=order,\n",
    "    seasonal_order = seasonal_order,\n",
    "    enforce_stationarity=False,\n",
    "    enforce_invertibility=False,\n",
    "    disp=False\n",
    ")\n",
    "\n",
    "model_results = model.fit(maxiter=200, disp=False)"
   ]
  },
  {
   "cell_type": "markdown",
   "metadata": {
    "id": "VTGbVjrNslhv",
    "papermill": {
     "duration": 0.043824,
     "end_time": "2021-02-19T11:04:55.656025",
     "exception": false,
     "start_time": "2021-02-19T11:04:55.612201",
     "status": "completed"
    },
    "tags": []
   },
   "source": [
    "Now, we can print a summary of the best model, which an ARIMA (1,1,0)."
   ]
  },
  {
   "cell_type": "code",
   "execution_count": 16,
   "metadata": {
    "execution": {
     "iopub.execute_input": "2021-02-19T11:04:55.752079Z",
     "iopub.status.busy": "2021-02-19T11:04:55.751414Z",
     "iopub.status.idle": "2021-02-19T11:04:55.771915Z",
     "shell.execute_reply": "2021-02-19T11:04:55.771352Z"
    },
    "id": "7CbPqcWM_OrK",
    "outputId": "0347895e-26a1-4bd6-970e-0463a33a7677",
    "papermill": {
     "duration": 0.071319,
     "end_time": "2021-02-19T11:04:55.772053",
     "exception": false,
     "start_time": "2021-02-19T11:04:55.700734",
     "status": "completed"
    },
    "tags": []
   },
   "outputs": [
    {
     "name": "stdout",
     "output_type": "stream",
     "text": [
      "                                     SARIMAX Results                                      \n",
      "==========================================================================================\n",
      "Dep. Variable:                              Close   No. Observations:                   60\n",
      "Model:             SARIMAX(1, 1, 0)x(1, 1, 0, 12)   Log Likelihood                -123.615\n",
      "Date:                            Fri, 19 Feb 2021   AIC                            253.230\n",
      "Time:                                    11:04:55   BIC                            257.809\n",
      "Sample:                                03-01-2016   HQIC                           254.792\n",
      "                                     - 02-01-2021                                         \n",
      "Covariance Type:                              opg                                         \n",
      "==============================================================================\n",
      "                 coef    std err          z      P>|z|      [0.025      0.975]\n",
      "------------------------------------------------------------------------------\n",
      "ar.L1         -0.0909      0.178     -0.512      0.609      -0.439       0.257\n",
      "ar.S.L12      -0.6941      0.200     -3.465      0.001      -1.087      -0.301\n",
      "sigma2        84.2337     28.546      2.951      0.003      28.285     140.183\n",
      "===================================================================================\n",
      "Ljung-Box (L1) (Q):                   0.13   Jarque-Bera (JB):                 0.68\n",
      "Prob(Q):                              0.71   Prob(JB):                         0.71\n",
      "Heteroskedasticity (H):               3.71   Skew:                            -0.18\n",
      "Prob(H) (two-sided):                  0.04   Kurtosis:                         2.41\n",
      "===================================================================================\n",
      "\n",
      "Warnings:\n",
      "[1] Covariance matrix calculated using the outer product of gradients (complex-step).\n"
     ]
    }
   ],
   "source": [
    "print(model_results.summary())"
   ]
  },
  {
   "cell_type": "code",
   "execution_count": 17,
   "metadata": {
    "execution": {
     "iopub.execute_input": "2021-02-19T11:04:55.881545Z",
     "iopub.status.busy": "2021-02-19T11:04:55.879990Z",
     "iopub.status.idle": "2021-02-19T11:04:56.715958Z",
     "shell.execute_reply": "2021-02-19T11:04:56.715438Z"
    },
    "id": "CmcqsNB7_Trc",
    "outputId": "8b142caa-4c2b-43d8-aaa5-5627bb7f4927",
    "papermill": {
     "duration": 0.899426,
     "end_time": "2021-02-19T11:04:56.716092",
     "exception": false,
     "start_time": "2021-02-19T11:04:55.816666",
     "status": "completed"
    },
    "tags": []
   },
   "outputs": [
    {
     "data": {
      "image/png": "[encoded data removed]",
      "text/plain": [
       "<Figure size 864x576 with 4 Axes>"
      ]
     },
     "metadata": {
      "needs_background": "light"
     },
     "output_type": "display_data"
    }
   ],
   "source": [
    "model_results.plot_diagnostics(figsize=(12,8));"
   ]
  },
  {
   "cell_type": "markdown",
   "metadata": {
    "id": "V6GcdLL5aFcG",
    "papermill": {
     "duration": 0.045828,
     "end_time": "2021-02-19T11:04:56.808177",
     "exception": false,
     "start_time": "2021-02-19T11:04:56.762349",
     "status": "completed"
    },
    "tags": []
   },
   "source": [
    "From the normal Q-Q plot, we can see that we almost have a straight line, which suggest no systematic departure from normality. Also, the correlogram on the bottom right suggests that there is no autocorrelation in the residuals, and so they are effectively white noise."
   ]
  },
  {
   "cell_type": "code",
   "execution_count": 18,
   "metadata": {
    "execution": {
     "iopub.execute_input": "2021-02-19T11:04:56.906758Z",
     "iopub.status.busy": "2021-02-19T11:04:56.906111Z",
     "iopub.status.idle": "2021-02-19T11:04:56.915423Z",
     "shell.execute_reply": "2021-02-19T11:04:56.915975Z"
    },
    "id": "WBf1H4w8_lzu",
    "outputId": "6eb6f5e7-739d-4100-ab68-41a7421eeded",
    "papermill": {
     "duration": 0.061889,
     "end_time": "2021-02-19T11:04:56.916140",
     "exception": false,
     "start_time": "2021-02-19T11:04:56.854251",
     "status": "completed"
    },
    "tags": []
   },
   "outputs": [
    {
     "data": {
      "text/plain": [
       "count    60.000000\n",
       "mean      2.180437\n",
       "std      10.021413\n",
       "min     -19.382343\n",
       "25%      -2.414445\n",
       "50%       1.917617\n",
       "75%       6.745846\n",
       "max      48.214378\n",
       "dtype: float64"
      ]
     },
     "execution_count": 18,
     "metadata": {},
     "output_type": "execute_result"
    }
   ],
   "source": [
    "model_results.resid.describe()"
   ]
  },
  {
   "cell_type": "markdown",
   "metadata": {
    "id": "IG75kLg9_pL8",
    "papermill": {
     "duration": 0.045855,
     "end_time": "2021-02-19T11:04:57.008310",
     "exception": false,
     "start_time": "2021-02-19T11:04:56.962455",
     "status": "completed"
    },
    "tags": []
   },
   "source": [
    "## Predicting the model"
   ]
  },
  {
   "cell_type": "markdown",
   "metadata": {
    "id": "AcUsyylJc0at",
    "papermill": {
     "duration": 0.045678,
     "end_time": "2021-02-19T11:04:57.100642",
     "exception": false,
     "start_time": "2021-02-19T11:04:57.054964",
     "status": "completed"
    },
    "tags": []
   },
   "source": [
    "We are ready to plot the predictions of our model and forecast into the future:"
   ]
  },
  {
   "cell_type": "code",
   "execution_count": 19,
   "metadata": {
    "execution": {
     "iopub.execute_input": "2021-02-19T11:04:57.195666Z",
     "iopub.status.busy": "2021-02-19T11:04:57.195089Z",
     "iopub.status.idle": "2021-02-19T11:04:57.203984Z",
     "shell.execute_reply": "2021-02-19T11:04:57.204492Z"
    },
    "id": "fVF_Cf8J_rQ-",
    "papermill": {
     "duration": 0.058199,
     "end_time": "2021-02-19T11:04:57.204687",
     "exception": false,
     "start_time": "2021-02-19T11:04:57.146488",
     "status": "completed"
    },
    "tags": []
   },
   "outputs": [],
   "source": [
    "n = len(df_settle.index)\n",
    "prediction = model_results.get_prediction(\n",
    "    start=n-14*5, #changed from 12\n",
    "    end=n+5\n",
    ")\n",
    "\n",
    "prediction_ci = prediction.conf_int()"
   ]
  },
  {
   "cell_type": "code",
   "execution_count": 20,
   "metadata": {
    "execution": {
     "iopub.execute_input": "2021-02-19T11:04:57.300894Z",
     "iopub.status.busy": "2021-02-19T11:04:57.300208Z",
     "iopub.status.idle": "2021-02-19T11:04:57.315598Z",
     "shell.execute_reply": "2021-02-19T11:04:57.314983Z"
    },
    "id": "VFAnuXpK_-fe",
    "outputId": "7b370c92-9c41-41a7-fc83-a6dbcb7451c0",
    "papermill": {
     "duration": 0.064669,
     "end_time": "2021-02-19T11:04:57.315747",
     "exception": false,
     "start_time": "2021-02-19T11:04:57.251078",
     "status": "completed"
    },
    "tags": []
   },
   "outputs": [
    {
     "data": {
      "text/html": [
       "<div>\n",
       "<style scoped>\n",
       "    .dataframe tbody tr th:only-of-type {\n",
       "        vertical-align: middle;\n",
       "    }\n",
       "\n",
       "    .dataframe tbody tr th {\n",
       "        vertical-align: top;\n",
       "    }\n",
       "\n",
       "    .dataframe thead th {\n",
       "        text-align: right;\n",
       "    }\n",
       "</style>\n",
       "<table border=\"1\" class=\"dataframe\">\n",
       "  <thead>\n",
       "    <tr style=\"text-align: right;\">\n",
       "      <th></th>\n",
       "      <th>lower Close</th>\n",
       "      <th>upper Close</th>\n",
       "    </tr>\n",
       "  </thead>\n",
       "  <tbody>\n",
       "    <tr>\n",
       "      <th>2020-05-01</th>\n",
       "      <td>138.698549</td>\n",
       "      <td>174.675224</td>\n",
       "    </tr>\n",
       "    <tr>\n",
       "      <th>2020-06-01</th>\n",
       "      <td>156.305084</td>\n",
       "      <td>192.281758</td>\n",
       "    </tr>\n",
       "    <tr>\n",
       "      <th>2020-07-01</th>\n",
       "      <td>165.132779</td>\n",
       "      <td>201.109453</td>\n",
       "    </tr>\n",
       "  </tbody>\n",
       "</table>\n",
       "</div>"
      ],
      "text/plain": [
       "            lower Close  upper Close\n",
       "2020-05-01   138.698549   174.675224\n",
       "2020-06-01   156.305084   192.281758\n",
       "2020-07-01   165.132779   201.109453"
      ]
     },
     "execution_count": 20,
     "metadata": {},
     "output_type": "execute_result"
    }
   ],
   "source": [
    "prediction_ci.head(3)"
   ]
  },
  {
   "cell_type": "code",
   "execution_count": 21,
   "metadata": {
    "execution": {
     "iopub.execute_input": "2021-02-19T11:04:57.437229Z",
     "iopub.status.busy": "2021-02-19T11:04:57.435377Z",
     "iopub.status.idle": "2021-02-19T11:04:57.682000Z",
     "shell.execute_reply": "2021-02-19T11:04:57.681537Z"
    },
    "id": "qd1iKbg5ACYu",
    "outputId": "788f1edd-795a-41e0-dcac-526497d18568",
    "papermill": {
     "duration": 0.317813,
     "end_time": "2021-02-19T11:04:57.682142",
     "exception": false,
     "start_time": "2021-02-19T11:04:57.364329",
     "status": "completed"
    },
    "tags": []
   },
   "outputs": [
    {
     "data": {
      "image/png": "[encoded data removed]",
      "text/plain": [
       "<Figure size 864x576 with 1 Axes>"
      ]
     },
     "metadata": {
      "needs_background": "light"
     },
     "output_type": "display_data"
    }
   ],
   "source": [
    "plt.figure(figsize=(12,8))\n",
    "ax = df_settle['2008':].plot(label='actual')\n",
    "prediction_ci.plot(\n",
    "    ax=ax, style=['--', '--'],\n",
    "    label='predicted/forecasted')\n",
    "\n",
    "ci_index = prediction_ci.index\n",
    "lower_ci = prediction_ci.iloc[:, 0]\n",
    "upper_ci = prediction_ci.iloc[:, 1]\n",
    "\n",
    "ax.fill_between(ci_index, lower_ci, upper_ci,\n",
    "                color='r', alpha= .1)\n",
    "\n",
    "ax.set_xlabel('Time (years)')\n",
    "ax.set_ylabel('Prices')\n",
    "\n",
    "plt.legend()\n",
    "plt.show()"
   ]
  },
  {
   "cell_type": "markdown",
   "metadata": {
    "papermill": {
     "duration": 0.047601,
     "end_time": "2021-02-19T11:04:57.778315",
     "exception": false,
     "start_time": "2021-02-19T11:04:57.730714",
     "status": "completed"
    },
    "tags": []
   },
   "source": [
    "Now we know how to do time-series prediction! We are all set and ready for our competition."
   ]
  },
  {
   "cell_type": "markdown",
   "metadata": {
    "id": "zWp4b7mrucTT",
    "papermill": {
     "duration": 0.048078,
     "end_time": "2021-02-19T11:04:57.875221",
     "exception": false,
     "start_time": "2021-02-19T11:04:57.827143",
     "status": "completed"
    },
    "tags": []
   },
   "source": [
    "## 4. Exploratory Data Analysis"
   ]
  },
  {
   "cell_type": "markdown",
   "metadata": {
    "id": "0l7b-huic72z",
    "papermill": {
     "duration": 0.047551,
     "end_time": "2021-02-19T11:04:57.971023",
     "exception": false,
     "start_time": "2021-02-19T11:04:57.923472",
     "status": "completed"
    },
    "tags": []
   },
   "source": [
    "First, let's visit the dataset `sales_train.csv` that we talked about previously."
   ]
  },
  {
   "cell_type": "code",
   "execution_count": 22,
   "metadata": {
    "execution": {
     "iopub.execute_input": "2021-02-19T11:04:58.072121Z",
     "iopub.status.busy": "2021-02-19T11:04:58.071460Z",
     "iopub.status.idle": "2021-02-19T11:05:20.629654Z",
     "shell.execute_reply": "2021-02-19T11:05:20.629170Z"
    },
    "id": "UlxOdBR9_mTs",
    "outputId": "02ffa91f-1fda-4b52-c963-c2f6314bede0",
    "papermill": {
     "duration": 22.611077,
     "end_time": "2021-02-19T11:05:20.629795",
     "exception": false,
     "start_time": "2021-02-19T11:04:58.018718",
     "status": "completed"
    },
    "tags": []
   },
   "outputs": [
    {
     "name": "stdout",
     "output_type": "stream",
     "text": [
      "<class 'pandas.core.frame.DataFrame'>\n",
      "RangeIndex: 2935849 entries, 0 to 2935848\n",
      "Data columns (total 6 columns):\n",
      " #   Column          Dtype         \n",
      "---  ------          -----         \n",
      " 0   date            datetime64[ns]\n",
      " 1   date_block_num  int64         \n",
      " 2   shop_id         int64         \n",
      " 3   item_id         int64         \n",
      " 4   item_price      float64       \n",
      " 5   item_cnt_day    float64       \n",
      "dtypes: datetime64[ns](1), float64(2), int64(3)\n",
      "memory usage: 134.4 MB\n",
      "None\n"
     ]
    }
   ],
   "source": [
    "#formating dates as a date object\n",
    "sales.date = sales.date.apply(lambda x: datetime.datetime.strptime(x, \"%d.%m.%Y\"))\n",
    "# check\n",
    "print(sales.info())"
   ]
  },
  {
   "cell_type": "markdown",
   "metadata": {
    "id": "vkAYSFrKdQ_8",
    "papermill": {
     "duration": 0.047821,
     "end_time": "2021-02-19T11:05:20.726308",
     "exception": false,
     "start_time": "2021-02-19T11:05:20.678487",
     "status": "completed"
    },
    "tags": []
   },
   "source": [
    "So we have ~2M sales of items in the period we were given."
   ]
  },
  {
   "cell_type": "markdown",
   "metadata": {
    "id": "hF3tDWmPdcHq",
    "papermill": {
     "duration": 0.047849,
     "end_time": "2021-02-19T11:05:20.822945",
     "exception": false,
     "start_time": "2021-02-19T11:05:20.775096",
     "status": "completed"
    },
    "tags": []
   },
   "source": [
    "How do they look like?"
   ]
  },
  {
   "cell_type": "code",
   "execution_count": 23,
   "metadata": {
    "execution": {
     "iopub.execute_input": "2021-02-19T11:05:20.959774Z",
     "iopub.status.busy": "2021-02-19T11:05:20.942500Z",
     "iopub.status.idle": "2021-02-19T11:05:22.016932Z",
     "shell.execute_reply": "2021-02-19T11:05:22.016385Z"
    },
    "id": "-0p7qj2WGKuV",
    "papermill": {
     "duration": 1.144426,
     "end_time": "2021-02-19T11:05:22.017098",
     "exception": false,
     "start_time": "2021-02-19T11:05:20.872672",
     "status": "completed"
    },
    "tags": []
   },
   "outputs": [],
   "source": [
    "sales_monthly = sales.groupby(\n",
    "    [\"date_block_num\", \"shop_id\", \"item_id\"])[\"date\",\"item_price\",\n",
    "                                              \"item_cnt_day\"].agg({\n",
    "        \"date\":[\"min\",\"max\"],\n",
    "        \"item_price\":\"mean\",\n",
    "        \"item_cnt_day\":\"sum\"})"
   ]
  },
  {
   "cell_type": "code",
   "execution_count": 24,
   "metadata": {
    "execution": {
     "iopub.execute_input": "2021-02-19T11:05:22.133190Z",
     "iopub.status.busy": "2021-02-19T11:05:22.132198Z",
     "iopub.status.idle": "2021-02-19T11:05:22.137107Z",
     "shell.execute_reply": "2021-02-19T11:05:22.136557Z"
    },
    "id": "acdeV0xcG-BF",
    "outputId": "8a8e2117-381a-405f-b26b-690f6dc2a89d",
    "papermill": {
     "duration": 0.071249,
     "end_time": "2021-02-19T11:05:22.137244",
     "exception": false,
     "start_time": "2021-02-19T11:05:22.065995",
     "status": "completed"
    },
    "tags": []
   },
   "outputs": [
    {
     "data": {
      "text/html": [
       "<div>\n",
       "<style scoped>\n",
       "    .dataframe tbody tr th:only-of-type {\n",
       "        vertical-align: middle;\n",
       "    }\n",
       "\n",
       "    .dataframe tbody tr th {\n",
       "        vertical-align: top;\n",
       "    }\n",
       "\n",
       "    .dataframe thead tr th {\n",
       "        text-align: left;\n",
       "    }\n",
       "\n",
       "    .dataframe thead tr:last-of-type th {\n",
       "        text-align: right;\n",
       "    }\n",
       "</style>\n",
       "<table border=\"1\" class=\"dataframe\">\n",
       "  <thead>\n",
       "    <tr>\n",
       "      <th></th>\n",
       "      <th></th>\n",
       "      <th></th>\n",
       "      <th colspan=\"2\" halign=\"left\">date</th>\n",
       "      <th>item_price</th>\n",
       "      <th>item_cnt_day</th>\n",
       "    </tr>\n",
       "    <tr>\n",
       "      <th></th>\n",
       "      <th></th>\n",
       "      <th></th>\n",
       "      <th>min</th>\n",
       "      <th>max</th>\n",
       "      <th>mean</th>\n",
       "      <th>sum</th>\n",
       "    </tr>\n",
       "    <tr>\n",
       "      <th>date_block_num</th>\n",
       "      <th>shop_id</th>\n",
       "      <th>item_id</th>\n",
       "      <th></th>\n",
       "      <th></th>\n",
       "      <th></th>\n",
       "      <th></th>\n",
       "    </tr>\n",
       "  </thead>\n",
       "  <tbody>\n",
       "    <tr>\n",
       "      <th rowspan=\"20\" valign=\"top\">0</th>\n",
       "      <th rowspan=\"20\" valign=\"top\">0</th>\n",
       "      <th>32</th>\n",
       "      <td>2013-01-03</td>\n",
       "      <td>2013-01-31</td>\n",
       "      <td>221.0</td>\n",
       "      <td>6.0</td>\n",
       "    </tr>\n",
       "    <tr>\n",
       "      <th>33</th>\n",
       "      <td>2013-01-03</td>\n",
       "      <td>2013-01-28</td>\n",
       "      <td>347.0</td>\n",
       "      <td>3.0</td>\n",
       "    </tr>\n",
       "    <tr>\n",
       "      <th>35</th>\n",
       "      <td>2013-01-31</td>\n",
       "      <td>2013-01-31</td>\n",
       "      <td>247.0</td>\n",
       "      <td>1.0</td>\n",
       "    </tr>\n",
       "    <tr>\n",
       "      <th>43</th>\n",
       "      <td>2013-01-31</td>\n",
       "      <td>2013-01-31</td>\n",
       "      <td>221.0</td>\n",
       "      <td>1.0</td>\n",
       "    </tr>\n",
       "    <tr>\n",
       "      <th>51</th>\n",
       "      <td>2013-01-13</td>\n",
       "      <td>2013-01-31</td>\n",
       "      <td>128.5</td>\n",
       "      <td>2.0</td>\n",
       "    </tr>\n",
       "    <tr>\n",
       "      <th>61</th>\n",
       "      <td>2013-01-10</td>\n",
       "      <td>2013-01-10</td>\n",
       "      <td>195.0</td>\n",
       "      <td>1.0</td>\n",
       "    </tr>\n",
       "    <tr>\n",
       "      <th>75</th>\n",
       "      <td>2013-01-17</td>\n",
       "      <td>2013-01-17</td>\n",
       "      <td>76.0</td>\n",
       "      <td>1.0</td>\n",
       "    </tr>\n",
       "    <tr>\n",
       "      <th>88</th>\n",
       "      <td>2013-01-16</td>\n",
       "      <td>2013-01-16</td>\n",
       "      <td>76.0</td>\n",
       "      <td>1.0</td>\n",
       "    </tr>\n",
       "    <tr>\n",
       "      <th>95</th>\n",
       "      <td>2013-01-06</td>\n",
       "      <td>2013-01-06</td>\n",
       "      <td>193.0</td>\n",
       "      <td>1.0</td>\n",
       "    </tr>\n",
       "    <tr>\n",
       "      <th>96</th>\n",
       "      <td>2013-01-10</td>\n",
       "      <td>2013-01-10</td>\n",
       "      <td>70.0</td>\n",
       "      <td>1.0</td>\n",
       "    </tr>\n",
       "    <tr>\n",
       "      <th>98</th>\n",
       "      <td>2013-01-04</td>\n",
       "      <td>2013-01-31</td>\n",
       "      <td>268.0</td>\n",
       "      <td>25.0</td>\n",
       "    </tr>\n",
       "    <tr>\n",
       "      <th>111</th>\n",
       "      <td>2013-01-17</td>\n",
       "      <td>2013-01-17</td>\n",
       "      <td>89.0</td>\n",
       "      <td>1.0</td>\n",
       "    </tr>\n",
       "    <tr>\n",
       "      <th>149</th>\n",
       "      <td>2013-01-11</td>\n",
       "      <td>2013-01-28</td>\n",
       "      <td>99.0</td>\n",
       "      <td>3.0</td>\n",
       "    </tr>\n",
       "    <tr>\n",
       "      <th>151</th>\n",
       "      <td>2013-01-16</td>\n",
       "      <td>2013-01-16</td>\n",
       "      <td>75.0</td>\n",
       "      <td>1.0</td>\n",
       "    </tr>\n",
       "    <tr>\n",
       "      <th>153</th>\n",
       "      <td>2013-01-09</td>\n",
       "      <td>2013-01-09</td>\n",
       "      <td>258.0</td>\n",
       "      <td>1.0</td>\n",
       "    </tr>\n",
       "    <tr>\n",
       "      <th>198</th>\n",
       "      <td>2013-01-10</td>\n",
       "      <td>2013-01-10</td>\n",
       "      <td>112.0</td>\n",
       "      <td>1.0</td>\n",
       "    </tr>\n",
       "    <tr>\n",
       "      <th>210</th>\n",
       "      <td>2013-01-05</td>\n",
       "      <td>2013-01-25</td>\n",
       "      <td>118.0</td>\n",
       "      <td>2.0</td>\n",
       "    </tr>\n",
       "    <tr>\n",
       "      <th>282</th>\n",
       "      <td>2013-01-04</td>\n",
       "      <td>2013-01-04</td>\n",
       "      <td>109.0</td>\n",
       "      <td>1.0</td>\n",
       "    </tr>\n",
       "    <tr>\n",
       "      <th>306</th>\n",
       "      <td>2013-01-22</td>\n",
       "      <td>2013-01-22</td>\n",
       "      <td>59.0</td>\n",
       "      <td>1.0</td>\n",
       "    </tr>\n",
       "    <tr>\n",
       "      <th>351</th>\n",
       "      <td>2013-01-21</td>\n",
       "      <td>2013-01-21</td>\n",
       "      <td>89.0</td>\n",
       "      <td>1.0</td>\n",
       "    </tr>\n",
       "  </tbody>\n",
       "</table>\n",
       "</div>"
      ],
      "text/plain": [
       "                                     date            item_price item_cnt_day\n",
       "                                      min        max       mean          sum\n",
       "date_block_num shop_id item_id                                              \n",
       "0              0       32      2013-01-03 2013-01-31      221.0          6.0\n",
       "                       33      2013-01-03 2013-01-28      347.0          3.0\n",
       "                       35      2013-01-31 2013-01-31      247.0          1.0\n",
       "                       43      2013-01-31 2013-01-31      221.0          1.0\n",
       "                       51      2013-01-13 2013-01-31      128.5          2.0\n",
       "                       61      2013-01-10 2013-01-10      195.0          1.0\n",
       "                       75      2013-01-17 2013-01-17       76.0          1.0\n",
       "                       88      2013-01-16 2013-01-16       76.0          1.0\n",
       "                       95      2013-01-06 2013-01-06      193.0          1.0\n",
       "                       96      2013-01-10 2013-01-10       70.0          1.0\n",
       "                       98      2013-01-04 2013-01-31      268.0         25.0\n",
       "                       111     2013-01-17 2013-01-17       89.0          1.0\n",
       "                       149     2013-01-11 2013-01-28       99.0          3.0\n",
       "                       151     2013-01-16 2013-01-16       75.0          1.0\n",
       "                       153     2013-01-09 2013-01-09      258.0          1.0\n",
       "                       198     2013-01-10 2013-01-10      112.0          1.0\n",
       "                       210     2013-01-05 2013-01-25      118.0          2.0\n",
       "                       282     2013-01-04 2013-01-04      109.0          1.0\n",
       "                       306     2013-01-22 2013-01-22       59.0          1.0\n",
       "                       351     2013-01-21 2013-01-21       89.0          1.0"
      ]
     },
     "execution_count": 24,
     "metadata": {},
     "output_type": "execute_result"
    }
   ],
   "source": [
    "sales_monthly.head(20)"
   ]
  },
  {
   "cell_type": "code",
   "execution_count": 25,
   "metadata": {
    "execution": {
     "iopub.execute_input": "2021-02-19T11:05:22.245755Z",
     "iopub.status.busy": "2021-02-19T11:05:22.245118Z",
     "iopub.status.idle": "2021-02-19T11:05:22.416781Z",
     "shell.execute_reply": "2021-02-19T11:05:22.417277Z"
    },
    "id": "yyL6V7EKH9XF",
    "outputId": "12fcb0d8-117d-44c7-bc26-38ac992d764c",
    "papermill": {
     "duration": 0.230801,
     "end_time": "2021-02-19T11:05:22.417445",
     "exception": false,
     "start_time": "2021-02-19T11:05:22.186644",
     "status": "completed"
    },
    "tags": []
   },
   "outputs": [
    {
     "data": {
      "image/png": "[encoded data removed]",
      "text/plain": [
       "<Figure size 576x288 with 1 Axes>"
      ]
     },
     "metadata": {
      "needs_background": "light"
     },
     "output_type": "display_data"
    }
   ],
   "source": [
    "# number of items per cat \n",
    "items.head()\n",
    "x = items.groupby(['item_category_id']).count() # but count is in column item_id ?\n",
    "x = x.sort_values(by='item_id',ascending=False)\n",
    "x=x.iloc[0:10].reset_index()\n",
    "x\n",
    "# plot\n",
    "plt.figure(figsize=(8,4))\n",
    "ax=sns.barplot(x.item_category_id, x.item_id, alpha=0.8)\n",
    "plt.title(\"Items per Category\")\n",
    "plt.ylabel(\"# of items\", fontsize=12)\n",
    "plt.xlabel(\"Category\", fontsize=12)\n",
    "plt.show()\n"
   ]
  },
  {
   "cell_type": "markdown",
   "metadata": {
    "id": "vUXG-NQ_diMp",
    "papermill": {
     "duration": 0.050314,
     "end_time": "2021-02-19T11:05:22.518203",
     "exception": false,
     "start_time": "2021-02-19T11:05:22.467889",
     "status": "completed"
    },
    "tags": []
   },
   "source": [
    "The sales by category seem to be unbalanced."
   ]
  },
  {
   "cell_type": "markdown",
   "metadata": {
    "id": "oZSHM3nY3YHN",
    "papermill": {
     "duration": 0.050609,
     "end_time": "2021-02-19T11:05:22.619930",
     "exception": false,
     "start_time": "2021-02-19T11:05:22.569321",
     "status": "completed"
    },
    "tags": []
   },
   "source": [
    "First let's compute the total sales per month and plot that data.\n",
    "\n"
   ]
  },
  {
   "cell_type": "code",
   "execution_count": 26,
   "metadata": {
    "execution": {
     "iopub.execute_input": "2021-02-19T11:05:22.726838Z",
     "iopub.status.busy": "2021-02-19T11:05:22.726205Z",
     "iopub.status.idle": "2021-02-19T11:05:22.769904Z",
     "shell.execute_reply": "2021-02-19T11:05:22.770340Z"
    },
    "id": "nG7AGL0Zx2e_",
    "papermill": {
     "duration": 0.099719,
     "end_time": "2021-02-19T11:05:22.770543",
     "exception": false,
     "start_time": "2021-02-19T11:05:22.670824",
     "status": "completed"
    },
    "tags": []
   },
   "outputs": [],
   "source": [
    "ts = sales.groupby(['date_block_num'])['item_cnt_day'].sum()\n",
    "# ts = sales.groupby(['date_block_num','shop_id'])['item_cnt_day'].sum()"
   ]
  },
  {
   "cell_type": "code",
   "execution_count": 27,
   "metadata": {
    "execution": {
     "iopub.execute_input": "2021-02-19T11:05:22.876076Z",
     "iopub.status.busy": "2021-02-19T11:05:22.875422Z",
     "iopub.status.idle": "2021-02-19T11:05:23.075229Z",
     "shell.execute_reply": "2021-02-19T11:05:23.074780Z"
    },
    "id": "OroIJ252_5kM",
    "outputId": "8a23266d-28af-496a-ace6-e348ba5d5b45",
    "papermill": {
     "duration": 0.253301,
     "end_time": "2021-02-19T11:05:23.075364",
     "exception": false,
     "start_time": "2021-02-19T11:05:22.822063",
     "status": "completed"
    },
    "tags": []
   },
   "outputs": [
    {
     "data": {
      "text/html": [
       "<div>\n",
       "<style scoped>\n",
       "    .dataframe tbody tr th:only-of-type {\n",
       "        vertical-align: middle;\n",
       "    }\n",
       "\n",
       "    .dataframe tbody tr th {\n",
       "        vertical-align: top;\n",
       "    }\n",
       "\n",
       "    .dataframe thead th {\n",
       "        text-align: right;\n",
       "    }\n",
       "</style>\n",
       "<table border=\"1\" class=\"dataframe\">\n",
       "  <thead>\n",
       "    <tr style=\"text-align: right;\">\n",
       "      <th>date_block_num</th>\n",
       "      <th>0</th>\n",
       "      <th>1</th>\n",
       "      <th>2</th>\n",
       "      <th>3</th>\n",
       "      <th>4</th>\n",
       "      <th>5</th>\n",
       "      <th>6</th>\n",
       "      <th>7</th>\n",
       "      <th>8</th>\n",
       "      <th>9</th>\n",
       "      <th>...</th>\n",
       "      <th>24</th>\n",
       "      <th>25</th>\n",
       "      <th>26</th>\n",
       "      <th>27</th>\n",
       "      <th>28</th>\n",
       "      <th>29</th>\n",
       "      <th>30</th>\n",
       "      <th>31</th>\n",
       "      <th>32</th>\n",
       "      <th>33</th>\n",
       "    </tr>\n",
       "    <tr>\n",
       "      <th>shop_id</th>\n",
       "      <th></th>\n",
       "      <th></th>\n",
       "      <th></th>\n",
       "      <th></th>\n",
       "      <th></th>\n",
       "      <th></th>\n",
       "      <th></th>\n",
       "      <th></th>\n",
       "      <th></th>\n",
       "      <th></th>\n",
       "      <th></th>\n",
       "      <th></th>\n",
       "      <th></th>\n",
       "      <th></th>\n",
       "      <th></th>\n",
       "      <th></th>\n",
       "      <th></th>\n",
       "      <th></th>\n",
       "      <th></th>\n",
       "      <th></th>\n",
       "      <th></th>\n",
       "    </tr>\n",
       "  </thead>\n",
       "  <tbody>\n",
       "    <tr>\n",
       "      <th>0</th>\n",
       "      <td>5578.0</td>\n",
       "      <td>6127.0</td>\n",
       "      <td>3198.73913</td>\n",
       "      <td>2330.217391</td>\n",
       "      <td>2377.111111</td>\n",
       "      <td>2725.673913</td>\n",
       "      <td>2542.73913</td>\n",
       "      <td>2784.244444</td>\n",
       "      <td>2962.933333</td>\n",
       "      <td>2772.630435</td>\n",
       "      <td>...</td>\n",
       "      <td>2219.42</td>\n",
       "      <td>1791.446809</td>\n",
       "      <td>1782.913043</td>\n",
       "      <td>1655.893617</td>\n",
       "      <td>1643.068182</td>\n",
       "      <td>1491.023256</td>\n",
       "      <td>1469.465116</td>\n",
       "      <td>1573.309524</td>\n",
       "      <td>1694.023256</td>\n",
       "      <td>1614.909091</td>\n",
       "    </tr>\n",
       "    <tr>\n",
       "      <th>1</th>\n",
       "      <td>2947.0</td>\n",
       "      <td>3364.0</td>\n",
       "      <td>3198.73913</td>\n",
       "      <td>2330.217391</td>\n",
       "      <td>2377.111111</td>\n",
       "      <td>2725.673913</td>\n",
       "      <td>2542.73913</td>\n",
       "      <td>2784.244444</td>\n",
       "      <td>2962.933333</td>\n",
       "      <td>2772.630435</td>\n",
       "      <td>...</td>\n",
       "      <td>2219.42</td>\n",
       "      <td>1791.446809</td>\n",
       "      <td>1782.913043</td>\n",
       "      <td>1655.893617</td>\n",
       "      <td>1643.068182</td>\n",
       "      <td>1491.023256</td>\n",
       "      <td>1469.465116</td>\n",
       "      <td>1573.309524</td>\n",
       "      <td>1694.023256</td>\n",
       "      <td>1614.909091</td>\n",
       "    </tr>\n",
       "    <tr>\n",
       "      <th>2</th>\n",
       "      <td>1146.0</td>\n",
       "      <td>488.0</td>\n",
       "      <td>753.00000</td>\n",
       "      <td>583.000000</td>\n",
       "      <td>553.000000</td>\n",
       "      <td>832.000000</td>\n",
       "      <td>807.00000</td>\n",
       "      <td>875.000000</td>\n",
       "      <td>945.000000</td>\n",
       "      <td>795.000000</td>\n",
       "      <td>...</td>\n",
       "      <td>987.00</td>\n",
       "      <td>907.000000</td>\n",
       "      <td>762.000000</td>\n",
       "      <td>859.000000</td>\n",
       "      <td>843.000000</td>\n",
       "      <td>804.000000</td>\n",
       "      <td>785.000000</td>\n",
       "      <td>942.000000</td>\n",
       "      <td>822.000000</td>\n",
       "      <td>727.000000</td>\n",
       "    </tr>\n",
       "    <tr>\n",
       "      <th>3</th>\n",
       "      <td>767.0</td>\n",
       "      <td>798.0</td>\n",
       "      <td>959.00000</td>\n",
       "      <td>647.000000</td>\n",
       "      <td>710.000000</td>\n",
       "      <td>784.000000</td>\n",
       "      <td>721.00000</td>\n",
       "      <td>890.000000</td>\n",
       "      <td>1026.000000</td>\n",
       "      <td>793.000000</td>\n",
       "      <td>...</td>\n",
       "      <td>977.00</td>\n",
       "      <td>738.000000</td>\n",
       "      <td>741.000000</td>\n",
       "      <td>740.000000</td>\n",
       "      <td>731.000000</td>\n",
       "      <td>672.000000</td>\n",
       "      <td>535.000000</td>\n",
       "      <td>666.000000</td>\n",
       "      <td>745.000000</td>\n",
       "      <td>613.000000</td>\n",
       "    </tr>\n",
       "    <tr>\n",
       "      <th>4</th>\n",
       "      <td>2114.0</td>\n",
       "      <td>2025.0</td>\n",
       "      <td>2060.00000</td>\n",
       "      <td>285.000000</td>\n",
       "      <td>1211.000000</td>\n",
       "      <td>1464.000000</td>\n",
       "      <td>1378.00000</td>\n",
       "      <td>1713.000000</td>\n",
       "      <td>1536.000000</td>\n",
       "      <td>1482.000000</td>\n",
       "      <td>...</td>\n",
       "      <td>1188.00</td>\n",
       "      <td>980.000000</td>\n",
       "      <td>978.000000</td>\n",
       "      <td>899.000000</td>\n",
       "      <td>893.000000</td>\n",
       "      <td>793.000000</td>\n",
       "      <td>842.000000</td>\n",
       "      <td>947.000000</td>\n",
       "      <td>732.000000</td>\n",
       "      <td>831.000000</td>\n",
       "    </tr>\n",
       "  </tbody>\n",
       "</table>\n",
       "<p>5 rows × 34 columns</p>\n",
       "</div>"
      ],
      "text/plain": [
       "date_block_num      0       1           2            3            4   \\\n",
       "shop_id                                                                \n",
       "0               5578.0  6127.0  3198.73913  2330.217391  2377.111111   \n",
       "1               2947.0  3364.0  3198.73913  2330.217391  2377.111111   \n",
       "2               1146.0   488.0   753.00000   583.000000   553.000000   \n",
       "3                767.0   798.0   959.00000   647.000000   710.000000   \n",
       "4               2114.0  2025.0  2060.00000   285.000000  1211.000000   \n",
       "\n",
       "date_block_num           5           6            7            8   \\\n",
       "shop_id                                                             \n",
       "0               2725.673913  2542.73913  2784.244444  2962.933333   \n",
       "1               2725.673913  2542.73913  2784.244444  2962.933333   \n",
       "2                832.000000   807.00000   875.000000   945.000000   \n",
       "3                784.000000   721.00000   890.000000  1026.000000   \n",
       "4               1464.000000  1378.00000  1713.000000  1536.000000   \n",
       "\n",
       "date_block_num           9   ...       24           25           26  \\\n",
       "shop_id                      ...                                      \n",
       "0               2772.630435  ...  2219.42  1791.446809  1782.913043   \n",
       "1               2772.630435  ...  2219.42  1791.446809  1782.913043   \n",
       "2                795.000000  ...   987.00   907.000000   762.000000   \n",
       "3                793.000000  ...   977.00   738.000000   741.000000   \n",
       "4               1482.000000  ...  1188.00   980.000000   978.000000   \n",
       "\n",
       "date_block_num           27           28           29           30  \\\n",
       "shop_id                                                              \n",
       "0               1655.893617  1643.068182  1491.023256  1469.465116   \n",
       "1               1655.893617  1643.068182  1491.023256  1469.465116   \n",
       "2                859.000000   843.000000   804.000000   785.000000   \n",
       "3                740.000000   731.000000   672.000000   535.000000   \n",
       "4                899.000000   893.000000   793.000000   842.000000   \n",
       "\n",
       "date_block_num           31           32           33  \n",
       "shop_id                                                \n",
       "0               1573.309524  1694.023256  1614.909091  \n",
       "1               1573.309524  1694.023256  1614.909091  \n",
       "2                942.000000   822.000000   727.000000  \n",
       "3                666.000000   745.000000   613.000000  \n",
       "4                947.000000   732.000000   831.000000  \n",
       "\n",
       "[5 rows x 34 columns]"
      ]
     },
     "execution_count": 27,
     "metadata": {},
     "output_type": "execute_result"
    }
   ],
   "source": [
    "out = sales.pivot_table(index='shop_id', \n",
    "                        columns='date_block_num',\n",
    "                        values='item_cnt_day',\n",
    "                        aggfunc='sum')\n",
    "out = out.fillna(out.mean())\n",
    "out.head()"
   ]
  },
  {
   "cell_type": "code",
   "execution_count": 28,
   "metadata": {
    "execution": {
     "iopub.execute_input": "2021-02-19T11:05:23.195870Z",
     "iopub.status.busy": "2021-02-19T11:05:23.195241Z",
     "iopub.status.idle": "2021-02-19T11:05:23.346199Z",
     "shell.execute_reply": "2021-02-19T11:05:23.346702Z"
    },
    "id": "uhHQtslBzQlq",
    "outputId": "0489ea7b-e18a-4e1d-a4f3-2d5770dddaeb",
    "papermill": {
     "duration": 0.219924,
     "end_time": "2021-02-19T11:05:23.346875",
     "exception": false,
     "start_time": "2021-02-19T11:05:23.126951",
     "status": "completed"
    },
    "tags": []
   },
   "outputs": [
    {
     "data": {
      "image/png": "[encoded data removed]",
      "text/plain": [
       "<Figure size 1152x576 with 1 Axes>"
      ]
     },
     "metadata": {
      "needs_background": "light"
     },
     "output_type": "display_data"
    }
   ],
   "source": [
    "plt.figure(figsize=(16,8))\n",
    "plt.plot(ts)\n",
    "plt.title(\"Total sales of the company\")\n",
    "plt.xlabel(\"Time\")\n",
    "plt.ylabel(\"# sales\")\n",
    "plt.show()"
   ]
  },
  {
   "cell_type": "code",
   "execution_count": 29,
   "metadata": {
    "execution": {
     "iopub.execute_input": "2021-02-19T11:05:23.457842Z",
     "iopub.status.busy": "2021-02-19T11:05:23.457239Z",
     "iopub.status.idle": "2021-02-19T11:05:24.194109Z",
     "shell.execute_reply": "2021-02-19T11:05:24.193639Z"
    },
    "id": "j3yW7QFJODei",
    "outputId": "ce830fe3-d27b-4590-f079-6c3ddb08f9a3",
    "papermill": {
     "duration": 0.792853,
     "end_time": "2021-02-19T11:05:24.194248",
     "exception": false,
     "start_time": "2021-02-19T11:05:23.401395",
     "status": "completed"
    },
    "tags": []
   },
   "outputs": [
    {
     "data": {
      "image/png": "[encoded data removed]",
      "text/plain": [
       "<Figure size 1152x576 with 1 Axes>"
      ]
     },
     "metadata": {
      "needs_background": "light"
     },
     "output_type": "display_data"
    }
   ],
   "source": [
    "plt.figure(figsize=(16,8))\n",
    "for i,row in out.iterrows():\n",
    "  plt.scatter(out.columns, row)\n",
    "plt.title(\"Total sales of the company\")\n",
    "plt.xlabel(\"Time\")\n",
    "plt.ylabel(\"# sales\")\n",
    "plt.show()"
   ]
  },
  {
   "cell_type": "code",
   "execution_count": 30,
   "metadata": {
    "execution": {
     "iopub.execute_input": "2021-02-19T11:05:24.451954Z",
     "iopub.status.busy": "2021-02-19T11:05:24.445733Z",
     "iopub.status.idle": "2021-02-19T11:05:24.585126Z",
     "shell.execute_reply": "2021-02-19T11:05:24.584139Z"
    },
    "id": "lo4B4wZO3upo",
    "outputId": "1775a1c9-0103-4f0e-8147-6484f43d08f9",
    "papermill": {
     "duration": 0.335058,
     "end_time": "2021-02-19T11:05:24.585282",
     "exception": false,
     "start_time": "2021-02-19T11:05:24.250224",
     "status": "completed"
    },
    "tags": []
   },
   "outputs": [
    {
     "data": {
      "image/png": "[encoded data removed]",
      "text/plain": [
       "<Figure size 1152x432 with 1 Axes>"
      ]
     },
     "metadata": {
      "needs_background": "light"
     },
     "output_type": "display_data"
    }
   ],
   "source": [
    "plt.figure(figsize=(16,6))\n",
    "plt.plot(ts.rolling(window=12,center=False).mean(), label = \"rolling mean\")\n",
    "plt.plot(ts.rolling(window=12, center=False).std(), label = \"rolling std\")\n",
    "plt.legend()\n",
    "plt.show()"
   ]
  },
  {
   "cell_type": "markdown",
   "metadata": {
    "id": "1rN8c2xe5kZS",
    "papermill": {
     "duration": 0.056967,
     "end_time": "2021-02-19T11:05:24.699184",
     "exception": false,
     "start_time": "2021-02-19T11:05:24.642217",
     "status": "completed"
    },
    "tags": []
   },
   "source": [
    "There is clearly a seasonality and a trend.\n",
    "\n",
    "Let's check that with a quick decomposition into Trend, seasonality and residuals.\n",
    "\n"
   ]
  },
  {
   "cell_type": "code",
   "execution_count": 31,
   "metadata": {
    "execution": {
     "iopub.execute_input": "2021-02-19T11:05:24.816810Z",
     "iopub.status.busy": "2021-02-19T11:05:24.816023Z",
     "iopub.status.idle": "2021-02-19T11:05:25.770861Z",
     "shell.execute_reply": "2021-02-19T11:05:25.770070Z"
    },
    "id": "uo7A6PHo4-lJ",
    "outputId": "c4dc3424-4965-4a07-93f2-a640fe7f01b1",
    "papermill": {
     "duration": 1.015367,
     "end_time": "2021-02-19T11:05:25.771039",
     "exception": false,
     "start_time": "2021-02-19T11:05:24.755672",
     "status": "completed"
    },
    "tags": []
   },
   "outputs": [
    {
     "data": {
      "image/png": "[encoded data removed]",
      "text/plain": [
       "<Figure size 432x288 with 4 Axes>"
      ]
     },
     "metadata": {
      "needs_background": "light"
     },
     "output_type": "display_data"
    }
   ],
   "source": [
    "import statsmodels.api as sm\n",
    "res = sm.tsa.seasonal_decompose(ts.values, freq=12, model=\"multiplicative\")\n",
    "fig=res.plot()"
   ]
  },
  {
   "cell_type": "code",
   "execution_count": 32,
   "metadata": {
    "execution": {
     "iopub.execute_input": "2021-02-19T11:05:25.908249Z",
     "iopub.status.busy": "2021-02-19T11:05:25.904962Z",
     "iopub.status.idle": "2021-02-19T11:05:26.343399Z",
     "shell.execute_reply": "2021-02-19T11:05:26.342919Z"
    },
    "id": "dN6i5VvF6N_X",
    "outputId": "e9b07b74-d604-4321-c261-27c2768c931c",
    "papermill": {
     "duration": 0.511899,
     "end_time": "2021-02-19T11:05:26.343563",
     "exception": false,
     "start_time": "2021-02-19T11:05:25.831664",
     "status": "completed"
    },
    "tags": []
   },
   "outputs": [
    {
     "data": {
      "image/png": "[encoded data removed]",
      "text/plain": [
       "<Figure size 432x288 with 4 Axes>"
      ]
     },
     "metadata": {
      "needs_background": "light"
     },
     "output_type": "display_data"
    }
   ],
   "source": [
    "import statsmodels.api as sm\n",
    "res = sm.tsa.seasonal_decompose(ts.values, freq=12, model=\"addidtive\")\n",
    "fig=res.plot()"
   ]
  },
  {
   "cell_type": "markdown",
   "metadata": {
    "id": "IWCxxt5kAYDs",
    "papermill": {
     "duration": 0.059093,
     "end_time": "2021-02-19T11:05:26.462575",
     "exception": false,
     "start_time": "2021-02-19T11:05:26.403482",
     "status": "completed"
    },
    "tags": []
   },
   "source": [
    "Now I need to predict at the (shop,item_level)"
   ]
  },
  {
   "cell_type": "code",
   "execution_count": 33,
   "metadata": {
    "execution": {
     "iopub.execute_input": "2021-02-19T11:05:26.590551Z",
     "iopub.status.busy": "2021-02-19T11:05:26.589865Z",
     "iopub.status.idle": "2021-02-19T11:05:27.419366Z",
     "shell.execute_reply": "2021-02-19T11:05:27.418220Z"
    },
    "id": "8VK8t-xOh9L7",
    "outputId": "5b123721-decd-48f0-983f-47341545a6f0",
    "papermill": {
     "duration": 0.897583,
     "end_time": "2021-02-19T11:05:27.419510",
     "exception": false,
     "start_time": "2021-02-19T11:05:26.521927",
     "status": "completed"
    },
    "tags": []
   },
   "outputs": [
    {
     "data": {
      "image/png": "[encoded data removed]",
      "text/plain": [
       "<Figure size 720x576 with 5 Axes>"
      ]
     },
     "metadata": {
      "needs_background": "light"
     },
     "output_type": "display_data"
    }
   ],
   "source": [
    "import statsmodels.api as smt\n",
    "import statsmodels\n",
    "import scipy.stats as scs\n",
    "from pandas import Series\n",
    "\n",
    "ts = sales.groupby([\"date_block_num\"])[\"item_cnt_day\"].sum()\n",
    "\n",
    "def difference(dataset, interval=1):\n",
    "  diff = list()\n",
    "  for i in range(interval, len(dataset)):\n",
    "    value = dataset[i] - dataset[i - interval]\n",
    "    diff.append(value)\n",
    "  return Series(diff)\n",
    "\n",
    "new_ts = difference(ts, 12)\n",
    "\n",
    "\n",
    "def tsplot(y, lags=None, figsize=(10, 8), style='bmh',title=''):\n",
    "    if not isinstance(y, pd.Series):\n",
    "        y = pd.Series(y)\n",
    "    with plt.style.context(style):    \n",
    "        fig = plt.figure(figsize=figsize)\n",
    "        #mpl.rcParams['font.family'] = 'Ubuntu Mono'\n",
    "        layout = (3, 2)\n",
    "        ts_ax = plt.subplot2grid(layout, (0, 0), colspan=2)\n",
    "        acf_ax = plt.subplot2grid(layout, (1, 0))\n",
    "        pacf_ax = plt.subplot2grid(layout, (1, 1))\n",
    "        qq_ax = plt.subplot2grid(layout, (2, 0))\n",
    "        pp_ax = plt.subplot2grid(layout, (2, 1))\n",
    "        \n",
    "        y.plot(ax=ts_ax)\n",
    "        ts_ax.set_title(title)\n",
    "        statsmodels.graphics.tsaplots.plot_acf(y, lags=lags, ax=acf_ax, alpha=0.5)\n",
    "        statsmodels.graphics.tsaplots.plot_pacf(y, lags=lags, ax=pacf_ax, alpha=0.5)\n",
    "        smt.qqplot(y, line='s', ax=qq_ax)\n",
    "        qq_ax.set_title('QQ Plot')        \n",
    "        scs.probplot(y, sparams=(y.mean(), y.std()), plot=pp_ax)\n",
    "\n",
    "        plt.tight_layout()\n",
    "    return \n",
    "\n",
    "max_lag = 12\n",
    "_ = tsplot(ts.values, lags=max_lag,title=\"My De-trend and De-seasonalized values process\");"
   ]
  },
  {
   "cell_type": "markdown",
   "metadata": {
    "id": "B6Fj5M3aE19d",
    "papermill": {
     "duration": 0.06151,
     "end_time": "2021-02-19T11:05:27.542966",
     "exception": false,
     "start_time": "2021-02-19T11:05:27.481456",
     "status": "completed"
    },
    "tags": []
   },
   "source": [
    "# ARMA"
   ]
  },
  {
   "cell_type": "markdown",
   "metadata": {
    "id": "LbCfXUXFfdcZ",
    "papermill": {
     "duration": 0.061168,
     "end_time": "2021-02-19T11:05:27.666124",
     "exception": false,
     "start_time": "2021-02-19T11:05:27.604956",
     "status": "completed"
    },
    "tags": []
   },
   "source": [
    "We are now going to buil our model to predict the future sales for the company."
   ]
  },
  {
   "cell_type": "markdown",
   "metadata": {
    "id": "ydC3U_j3fkVR",
    "papermill": {
     "duration": 0.061482,
     "end_time": "2021-02-19T11:05:27.789588",
     "exception": false,
     "start_time": "2021-02-19T11:05:27.728106",
     "status": "completed"
    },
    "tags": []
   },
   "source": [
    "We first need to create a multi-index dataframe with `(\"date_block_num\", \"shop_id\", \"item_id\")` as index in order to easily find the number of time an `item_id` was sold at month `date_block_num`."
   ]
  },
  {
   "cell_type": "code",
   "execution_count": 34,
   "metadata": {
    "execution": {
     "iopub.execute_input": "2021-02-19T11:05:27.939842Z",
     "iopub.status.busy": "2021-02-19T11:05:27.929332Z",
     "iopub.status.idle": "2021-02-19T11:05:28.971417Z",
     "shell.execute_reply": "2021-02-19T11:05:28.972716Z"
    },
    "id": "Mu_9xmwxwlii",
    "papermill": {
     "duration": 1.121718,
     "end_time": "2021-02-19T11:05:28.972946",
     "exception": false,
     "start_time": "2021-02-19T11:05:27.851228",
     "status": "completed"
    },
    "tags": []
   },
   "outputs": [],
   "source": [
    "sales_monthly = sales.groupby(\n",
    "    [\"date_block_num\", \"shop_id\", \"item_id\"])[\"date\", \"item_price\",\n",
    "                                              \"item_cnt_day\"].agg({\n",
    "    \"date\": [\"min\", \"max\"],\n",
    "    \"item_price\": \"mean\",\n",
    "    \"item_cnt_day\": \"sum\"})"
   ]
  },
  {
   "cell_type": "code",
   "execution_count": 35,
   "metadata": {
    "execution": {
     "iopub.execute_input": "2021-02-19T11:05:29.113640Z",
     "iopub.status.busy": "2021-02-19T11:05:29.112768Z",
     "iopub.status.idle": "2021-02-19T11:05:29.116686Z",
     "shell.execute_reply": "2021-02-19T11:05:29.117074Z"
    },
    "id": "O_SCcjOyf_Y2",
    "outputId": "11e06b0b-93ac-43e2-fa74-b2556ee9a373",
    "papermill": {
     "duration": 0.080462,
     "end_time": "2021-02-19T11:05:29.117250",
     "exception": false,
     "start_time": "2021-02-19T11:05:29.036788",
     "status": "completed"
    },
    "tags": []
   },
   "outputs": [
    {
     "data": {
      "text/html": [
       "<div>\n",
       "<style scoped>\n",
       "    .dataframe tbody tr th:only-of-type {\n",
       "        vertical-align: middle;\n",
       "    }\n",
       "\n",
       "    .dataframe tbody tr th {\n",
       "        vertical-align: top;\n",
       "    }\n",
       "\n",
       "    .dataframe thead tr th {\n",
       "        text-align: left;\n",
       "    }\n",
       "\n",
       "    .dataframe thead tr:last-of-type th {\n",
       "        text-align: right;\n",
       "    }\n",
       "</style>\n",
       "<table border=\"1\" class=\"dataframe\">\n",
       "  <thead>\n",
       "    <tr>\n",
       "      <th></th>\n",
       "      <th></th>\n",
       "      <th></th>\n",
       "      <th colspan=\"2\" halign=\"left\">date</th>\n",
       "      <th>item_price</th>\n",
       "      <th>item_cnt_day</th>\n",
       "    </tr>\n",
       "    <tr>\n",
       "      <th></th>\n",
       "      <th></th>\n",
       "      <th></th>\n",
       "      <th>min</th>\n",
       "      <th>max</th>\n",
       "      <th>mean</th>\n",
       "      <th>sum</th>\n",
       "    </tr>\n",
       "    <tr>\n",
       "      <th>date_block_num</th>\n",
       "      <th>shop_id</th>\n",
       "      <th>item_id</th>\n",
       "      <th></th>\n",
       "      <th></th>\n",
       "      <th></th>\n",
       "      <th></th>\n",
       "    </tr>\n",
       "  </thead>\n",
       "  <tbody>\n",
       "    <tr>\n",
       "      <th rowspan=\"5\" valign=\"top\">0</th>\n",
       "      <th rowspan=\"5\" valign=\"top\">0</th>\n",
       "      <th>32</th>\n",
       "      <td>2013-01-03</td>\n",
       "      <td>2013-01-31</td>\n",
       "      <td>221.0</td>\n",
       "      <td>6.0</td>\n",
       "    </tr>\n",
       "    <tr>\n",
       "      <th>33</th>\n",
       "      <td>2013-01-03</td>\n",
       "      <td>2013-01-28</td>\n",
       "      <td>347.0</td>\n",
       "      <td>3.0</td>\n",
       "    </tr>\n",
       "    <tr>\n",
       "      <th>35</th>\n",
       "      <td>2013-01-31</td>\n",
       "      <td>2013-01-31</td>\n",
       "      <td>247.0</td>\n",
       "      <td>1.0</td>\n",
       "    </tr>\n",
       "    <tr>\n",
       "      <th>43</th>\n",
       "      <td>2013-01-31</td>\n",
       "      <td>2013-01-31</td>\n",
       "      <td>221.0</td>\n",
       "      <td>1.0</td>\n",
       "    </tr>\n",
       "    <tr>\n",
       "      <th>51</th>\n",
       "      <td>2013-01-13</td>\n",
       "      <td>2013-01-31</td>\n",
       "      <td>128.5</td>\n",
       "      <td>2.0</td>\n",
       "    </tr>\n",
       "  </tbody>\n",
       "</table>\n",
       "</div>"
      ],
      "text/plain": [
       "                                     date            item_price item_cnt_day\n",
       "                                      min        max       mean          sum\n",
       "date_block_num shop_id item_id                                              \n",
       "0              0       32      2013-01-03 2013-01-31      221.0          6.0\n",
       "                       33      2013-01-03 2013-01-28      347.0          3.0\n",
       "                       35      2013-01-31 2013-01-31      247.0          1.0\n",
       "                       43      2013-01-31 2013-01-31      221.0          1.0\n",
       "                       51      2013-01-13 2013-01-31      128.5          2.0"
      ]
     },
     "execution_count": 35,
     "metadata": {},
     "output_type": "execute_result"
    }
   ],
   "source": [
    "sales_monthly.head()"
   ]
  },
  {
   "cell_type": "markdown",
   "metadata": {
    "id": "_qR4Q3uLgkiF",
    "papermill": {
     "duration": 0.062746,
     "end_time": "2021-02-19T11:05:29.242994",
     "exception": false,
     "start_time": "2021-02-19T11:05:29.180248",
     "status": "completed"
    },
    "tags": []
   },
   "source": [
    "Each `\"shop_id\", \"item_id\"` is a time series for which we will find and create a SARIMAX model."
   ]
  },
  {
   "cell_type": "markdown",
   "metadata": {
    "id": "Fmv_nZnrg1Tl",
    "papermill": {
     "duration": 0.062893,
     "end_time": "2021-02-19T11:05:29.369182",
     "exception": false,
     "start_time": "2021-02-19T11:05:29.306289",
     "status": "completed"
    },
    "tags": []
   },
   "source": [
    "We now find these couples iterating through `test` and creating the related SARIMAX model if we have enough data (at least 33 month of sales)"
   ]
  },
  {
   "cell_type": "code",
   "execution_count": 36,
   "metadata": {
    "execution": {
     "iopub.execute_input": "2021-02-19T11:05:29.500502Z",
     "iopub.status.busy": "2021-02-19T11:05:29.499582Z",
     "iopub.status.idle": "2021-02-19T13:40:18.311851Z",
     "shell.execute_reply": "2021-02-19T13:40:18.312644Z"
    },
    "id": "LfssG6vRCc1B",
    "outputId": "3fb83045-89f5-4d7c-d2b7-229ee9546331",
    "papermill": {
     "duration": 9288.879594,
     "end_time": "2021-02-19T13:40:18.313044",
     "exception": false,
     "start_time": "2021-02-19T11:05:29.433450",
     "status": "completed"
    },
    "tags": []
   },
   "outputs": [],
   "source": [
    "import more_itertools as mit\n",
    "from statsmodels.tsa.statespace.sarimax import SARIMAX\n",
    "\n",
    "\n",
    "array = []\n",
    "\n",
    "for i, row in test.iterrows():\n",
    "   \n",
    "    try:\n",
    "        # We get all the dates/indexes in order to fill the blanks of the time series with 0s later on \n",
    "        # We have a KeyError issue at row['shop_id']:  5  row['item_id']:  5003 which I don't have in my local notebook\n",
    "        existing_indexes = [x[0] \n",
    "                            for x in sales_monthly.loc[pd.IndexSlice[:, \n",
    "                            [row['shop_id']], [row['item_id']]], :].index]\n",
    "        # We multiply the price of the item by the number of this kind of item sold\n",
    "        ts = pd.DataFrame(sales_monthly.loc[pd.IndexSlice[:, # We have a key error here\n",
    "                      [row['shop_id']], [row['item_id']]], :]['item_price'].values *\n",
    "                      sales_monthly.loc[pd.IndexSlice[:, \n",
    "                      [row['shop_id']], [row['item_id']]], :]['item_cnt_day'].values).T.iloc[0]\n",
    "        ts_values = list(ts.values)\n",
    "        if ts.values != [] and len(ts.values) > 4:\n",
    "          # if this item isn't sold every month, we need to fill the gaps in the \n",
    "          # sellings list\n",
    "          if len(ts.values<3):\n",
    "            all_indexes = list(range(33))\n",
    "            insert_at_indexes = set(all_indexes) - set(existing_indexes)\n",
    "            insert_at_indexes = [list(group) \n",
    "                        for group in mit.consecutive_groups(insert_at_indexes)][1:]\n",
    "            insert_at_indexes = [item for sublist in insert_at_indexes for item in sublist]\n",
    "            # we only take the last one \n",
    "            for insert_at in insert_at_indexes:\n",
    "              ts_values[insert_at:insert_at] = [0.]\n",
    "          best_aic = np.inf\n",
    "          best_order = None\n",
    "          best_model = None\n",
    "\n",
    "          # we need to test different orders, but let's have a go with that ...\n",
    "          ranges = range(1, 5)\n",
    "          for difference in ranges:\n",
    "              tmp_model = SARIMAX(ts_values, order=(0, 1, 0), trend='t').fit()\n",
    "              tmp_aic = tmp_model.aic\n",
    "              if tmp_aic < best_aic:\n",
    "                  best_aic = tmp_aic\n",
    "                  best_difference = difference\n",
    "                  best_model = tmp_model\n",
    "          if best_model is not None:\n",
    "              y_hat = best_model.forecast()[0]\n",
    "              if y_hat < 0:\n",
    "                  y_hat = 0.5\n",
    "          else:\n",
    "              y_hat = 0.5\n",
    "        else:\n",
    "            y_hat = 0.5\n",
    "    except KeyError:\n",
    "        y_hat = 0.5\n",
    "    d = {'id': row['ID'], 'item_cnt_month': y_hat}\n",
    "    array.append(d)\n",
    "\n",
    "df = pd.DataFrame(array)\n",
    "df.reset_index(drop=True, inplace=True)"
   ]
  },
  {
   "cell_type": "markdown",
   "metadata": {
    "papermill": {
     "duration": 0.062882,
     "end_time": "2021-02-19T13:40:18.442685",
     "exception": false,
     "start_time": "2021-02-19T13:40:18.379803",
     "status": "completed"
    },
    "tags": []
   },
   "source": [
    "Allright ! We are all done, let's have a look at what we predicted."
   ]
  },
  {
   "cell_type": "code",
   "execution_count": 37,
   "metadata": {
    "execution": {
     "iopub.execute_input": "2021-02-19T13:40:18.574224Z",
     "iopub.status.busy": "2021-02-19T13:40:18.573642Z",
     "iopub.status.idle": "2021-02-19T13:40:18.582375Z",
     "shell.execute_reply": "2021-02-19T13:40:18.582920Z"
    },
    "id": "yffn4J_5_y5I",
    "outputId": "37825298-83d2-41f3-a288-2b73b9cbf3d2",
    "papermill": {
     "duration": 0.075441,
     "end_time": "2021-02-19T13:40:18.583086",
     "exception": false,
     "start_time": "2021-02-19T13:40:18.507645",
     "status": "completed"
    },
    "tags": []
   },
   "outputs": [
    {
     "data": {
      "text/html": [
       "<div>\n",
       "<style scoped>\n",
       "    .dataframe tbody tr th:only-of-type {\n",
       "        vertical-align: middle;\n",
       "    }\n",
       "\n",
       "    .dataframe tbody tr th {\n",
       "        vertical-align: top;\n",
       "    }\n",
       "\n",
       "    .dataframe thead th {\n",
       "        text-align: right;\n",
       "    }\n",
       "</style>\n",
       "<table border=\"1\" class=\"dataframe\">\n",
       "  <thead>\n",
       "    <tr style=\"text-align: right;\">\n",
       "      <th></th>\n",
       "      <th>id</th>\n",
       "      <th>item_cnt_month</th>\n",
       "    </tr>\n",
       "  </thead>\n",
       "  <tbody>\n",
       "    <tr>\n",
       "      <th>0</th>\n",
       "      <td>0</td>\n",
       "      <td>0.5</td>\n",
       "    </tr>\n",
       "    <tr>\n",
       "      <th>1</th>\n",
       "      <td>1</td>\n",
       "      <td>0.5</td>\n",
       "    </tr>\n",
       "    <tr>\n",
       "      <th>2</th>\n",
       "      <td>2</td>\n",
       "      <td>0.5</td>\n",
       "    </tr>\n",
       "    <tr>\n",
       "      <th>3</th>\n",
       "      <td>3</td>\n",
       "      <td>0.5</td>\n",
       "    </tr>\n",
       "    <tr>\n",
       "      <th>4</th>\n",
       "      <td>4</td>\n",
       "      <td>0.5</td>\n",
       "    </tr>\n",
       "  </tbody>\n",
       "</table>\n",
       "</div>"
      ],
      "text/plain": [
       "   id  item_cnt_month\n",
       "0   0             0.5\n",
       "1   1             0.5\n",
       "2   2             0.5\n",
       "3   3             0.5\n",
       "4   4             0.5"
      ]
     },
     "execution_count": 37,
     "metadata": {},
     "output_type": "execute_result"
    }
   ],
   "source": [
    "df.head()"
   ]
  },
  {
   "cell_type": "code",
   "execution_count": 38,
   "metadata": {
    "execution": {
     "iopub.execute_input": "2021-02-19T13:40:18.713740Z",
     "iopub.status.busy": "2021-02-19T13:40:18.713084Z",
     "iopub.status.idle": "2021-02-19T13:40:19.128079Z",
     "shell.execute_reply": "2021-02-19T13:40:19.128595Z"
    },
    "id": "H5-dX-6cAxsF",
    "papermill": {
     "duration": 0.482218,
     "end_time": "2021-02-19T13:40:19.128812",
     "exception": false,
     "start_time": "2021-02-19T13:40:18.646594",
     "status": "completed"
    },
    "tags": []
   },
   "outputs": [],
   "source": [
    "df.to_csv(\"submission.csv\")"
   ]
  },
  {
   "cell_type": "code",
   "execution_count": 39,
   "metadata": {
    "execution": {
     "iopub.execute_input": "2021-02-19T13:40:19.260692Z",
     "iopub.status.busy": "2021-02-19T13:40:19.260117Z",
     "iopub.status.idle": "2021-02-19T13:40:19.574584Z",
     "shell.execute_reply": "2021-02-19T13:40:19.575080Z"
    },
    "id": "8ihetodbA3om",
    "papermill": {
     "duration": 0.381209,
     "end_time": "2021-02-19T13:40:19.575252",
     "exception": false,
     "start_time": "2021-02-19T13:40:19.194043",
     "status": "completed"
    },
    "tags": []
   },
   "outputs": [],
   "source": [
    " df.to_csv(\"submission.csv\", index=False)"
   ]
  },
  {
   "cell_type": "markdown",
   "metadata": {
    "papermill": {
     "duration": 0.064183,
     "end_time": "2021-02-19T13:40:19.703226",
     "exception": false,
     "start_time": "2021-02-19T13:40:19.639043",
     "status": "completed"
    },
    "tags": []
   },
   "source": [
    "# Conclusion"
   ]
  },
  {
   "cell_type": "markdown",
   "metadata": {
    "id": "9aR8iA6edICF",
    "papermill": {
     "duration": 0.062872,
     "end_time": "2021-02-19T13:40:19.829652",
     "exception": false,
     "start_time": "2021-02-19T13:40:19.766780",
     "status": "completed"
    },
    "tags": []
   },
   "source": [
    "And our score is ... 3556.23468 whereas the sample submission was 1.23646."
   ]
  },
  {
   "cell_type": "markdown",
   "metadata": {
    "id": "ClbJ1TtfexV9",
    "papermill": {
     "duration": 0.063075,
     "end_time": "2021-02-19T13:40:19.957789",
     "exception": false,
     "start_time": "2021-02-19T13:40:19.894714",
     "status": "completed"
    },
    "tags": []
   },
   "source": [
    "As we are calculating the root mean square error, the the differences between values (sample or population values) predicted by a model or an estimator and the values observed, this is not very good. "
   ]
  },
  {
   "cell_type": "markdown",
   "metadata": {
    "id": "W6zFT_5ve0aV",
    "papermill": {
     "duration": 0.064094,
     "end_time": "2021-02-19T13:40:20.088554",
     "exception": false,
     "start_time": "2021-02-19T13:40:20.024460",
     "status": "completed"
    },
    "tags": []
   },
   "source": [
    "We probably need to\n",
    "- get the right orders.\n",
    "- do further data cleaning:\n",
    "- Maybe the (shop,item) couples which don't generate any revenues anymore are not detected despite.\n",
    "- Maybe ARIMA isn't a good model for this case and we should rather use a RNN model?"
   ]
  }
 ],
 "metadata": {
  "kernelspec": {
   "display_name": "Python 3",
   "language": "python",
   "name": "python3"
  },
  "language_info": {
   "codemirror_mode": {
    "name": "ipython",
    "version": 3
   },
   "file_extension": ".py",
   "mimetype": "text/x-python",
   "name": "python",
   "nbconvert_exporter": "python",
   "pygments_lexer": "ipython3",
   "version": "3.7.9"
  },
  "papermill": {
   "default_parameters": {},
   "duration": 9359.574678,
   "end_time": "2021-02-19T13:40:20.963624",
   "environment_variables": {},
   "exception": null,
   "input_path": "__notebook__.ipynb",
   "output_path": "__notebook__.ipynb",
   "parameters": {},
   "start_time": "2021-02-19T11:04:21.388946",
   "version": "2.2.2"
  }
 },
 "nbformat": 4,
 "nbformat_minor": 4
}
